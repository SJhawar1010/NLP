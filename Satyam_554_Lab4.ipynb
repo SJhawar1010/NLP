{
  "nbformat": 4,
  "nbformat_minor": 0,
  "metadata": {
    "colab": {
      "provenance": [],
      "authorship_tag": "ABX9TyPYvwX/v9Xt0YKrTmjEI/gp",
      "include_colab_link": true
    },
    "kernelspec": {
      "name": "python3",
      "display_name": "Python 3"
    },
    "language_info": {
      "name": "python"
    }
  },
  "cells": [
    {
      "cell_type": "markdown",
      "metadata": {
        "id": "view-in-github",
        "colab_type": "text"
      },
      "source": [
        "<a href=\"https://colab.research.google.com/github/SJhawar1010/NLP/blob/main/Satyam_554_Lab4.ipynb\" target=\"_parent\"><img src=\"https://colab.research.google.com/assets/colab-badge.svg\" alt=\"Open In Colab\"/></a>"
      ]
    },
    {
      "cell_type": "code",
      "execution_count": 1,
      "metadata": {
        "colab": {
          "base_uri": "https://localhost:8080/"
        },
        "id": "tarKHizXKyxy",
        "outputId": "0dab0c10-3059-4070-9d90-e8e9129a930b"
      },
      "outputs": [
        {
          "output_type": "stream",
          "name": "stderr",
          "text": [
            "[nltk_data] Downloading package wordnet to /root/nltk_data...\n"
          ]
        },
        {
          "output_type": "execute_result",
          "data": {
            "text/plain": [
              "True"
            ]
          },
          "metadata": {},
          "execution_count": 1
        }
      ],
      "source": [
        "from nltk.corpus import wordnet\n",
        "import nltk\n",
        "nltk.download('wordnet')"
      ]
    },
    {
      "cell_type": "code",
      "source": [
        "from nltk.stem import WordNetLemmatizer\n"
      ],
      "metadata": {
        "id": "2PKRGEiCkUY4"
      },
      "execution_count": 16,
      "outputs": []
    },
    {
      "cell_type": "code",
      "source": [
        "words = [\"bear\", \"set\", \"square\", \"lead\", \"criteria\"]"
      ],
      "metadata": {
        "id": "tETo6ZfqP-yt"
      },
      "execution_count": 2,
      "outputs": []
    },
    {
      "cell_type": "code",
      "source": [
        "for word in words:\n",
        "    synonyms = []\n",
        "    for syn in wordnet.synsets(word):\n",
        "        for lemma in syn.lemmas():\n",
        "            synonyms.append(lemma.name())\n",
        "    synonyms = list(set(synonyms))\n",
        "    print(f\"Synonyms for {word}: {', '.join(synonyms)}\")"
      ],
      "metadata": {
        "colab": {
          "base_uri": "https://localhost:8080/"
        },
        "id": "8ri7PmyYQR8J",
        "outputId": "e7c20395-eeda-4ca3-890f-95c7f1da80ea"
      },
      "execution_count": 8,
      "outputs": [
        {
          "output_type": "stream",
          "name": "stdout",
          "text": [
            "Synonyms for bear: stand, turn_out, endure, suffer, brook, comport, have, deliver, abide, hold, assume, expect, pay, deport, stomach, conduct, stick_out, acquit, accept, yield, behave, carry, give_birth, bear, support, put_up, take_over, have_a_bun_in_the_oven, tolerate, wear, contain, birth, digest, gestate\n",
            "Synonyms for set: typeset, Seth, specify, hardening, stage_set, sic, hardened, lay, mark, fix, located, countersink, lot, fructify, position, readiness, exercise_set, jell, set_up, place, rigid, define, do, correct, determine, lay_out, fit, localise, pose, primed, dictated, plant, solidification, gear_up, prepare, rig, arrange, coif, curing, dress, adjust, band, put, ready, fixed, coiffure, bent, situated, set, Set, localize, laid, determined, limit, congeal, placed, circle, go_down, go_under, coiffe, solidifying\n",
            "Synonyms for square: public_square, square, lame, hearty, satisfying, foursquare, square_up, second_power, straight, straightforward, solid, squarely, square_toes, substantial, feather\n",
            "Synonyms for lead: pass, pencil_lead, wind, booster_cable, star, tether, leading, precede, tip, spark_advance, lead, atomic_number_82, lead-in, jumper_lead, result, top, conduct, Pb, lede, principal, jumper_cable, moderate, run, direct, steer, extend, confidential_information, leave, trail, hint, head, guide, track, take, contribute, chair, leash, lead_story, conduce, go\n",
            "Synonyms for criteria: touchstone, standard, criterion, measure\n"
          ]
        }
      ]
    },
    {
      "cell_type": "code",
      "source": [
        "target_word = words[2]\n",
        "synsets = wordnet.synsets(target_word)\n",
        "\n",
        "if len(synsets) >= 3:\n",
        "    third_meaning = synsets[2].definition()\n",
        "    print(f\"The 3rd meaning of '{target_word}' is: {third_meaning}\")\n",
        "else:\n",
        "    print(f\"{target_word} does not have a 3rd meaning in WordNet.\")"
      ],
      "metadata": {
        "colab": {
          "base_uri": "https://localhost:8080/"
        },
        "id": "U7LAyKujQVYd",
        "outputId": "828068af-0c05-414f-d818-fab0b7c8c049"
      },
      "execution_count": 12,
      "outputs": [
        {
          "output_type": "stream",
          "name": "stdout",
          "text": [
            "The 3rd meaning of 'square' is: an open area at the meeting of two or more streets\n"
          ]
        }
      ]
    },
    {
      "cell_type": "code",
      "source": [
        "for word in words:\n",
        "    synonyms = []\n",
        "    for syn in wordnet.synsets(word):\n",
        "        for lemma in syn.lemmas():\n",
        "            synonyms.append(lemma.name())\n",
        "    synonyms = list(set(synonyms))\n",
        "    nouns = [s for s in synonyms if wordnet.synsets(s) and wordnet.synsets(s)[0].pos() == 'n']\n",
        "    print(f\"Nouns for {word}: {', '.join(nouns)}\")"
      ],
      "metadata": {
        "colab": {
          "base_uri": "https://localhost:8080/"
        },
        "id": "WfqATwAXSdTn",
        "outputId": "4cbac071-e4d1-4e6a-d524-d16102275ac2"
      },
      "execution_count": 14,
      "outputs": [
        {
          "output_type": "stream",
          "name": "stdout",
          "text": [
            "Nouns for bear: stand, brook, have, hold, pay, stomach, conduct, yield, carry, bear, support, wear, birth, digest\n",
            "Nouns for set: Seth, hardening, stage_set, lay, mark, fix, countersink, lot, position, readiness, exercise_set, place, do, fit, pose, plant, solidification, rig, coif, curing, dress, band, put, ready, coiffure, bent, set, Set, limit, circle, solidifying\n",
            "Nouns for square: public_square, square, lame, foursquare, second_power, straight, solid, square_toes, feather\n",
            "Nouns for lead: pass, pencil_lead, wind, booster_cable, star, tether, leading, tip, spark_advance, lead, atomic_number_82, lead-in, jumper_lead, result, top, conduct, Pb, lede, principal, jumper_cable, moderate, run, steer, confidential_information, leave, trail, hint, head, guide, track, take, chair, leash, lead_story, go\n",
            "Nouns for criteria: touchstone, standard, criterion, measure\n"
          ]
        }
      ]
    },
    {
      "cell_type": "code",
      "source": [
        "for word in words:\n",
        "    synonyms = []\n",
        "    verbs = []\n",
        "\n",
        "    for syn in wordnet.synsets(word):\n",
        "        for lemma in syn.lemmas():\n",
        "            synonyms.append(lemma.name())\n",
        "            if lemma.synset().pos() == 'v':\n",
        "                verbs.append(lemma.name())\n",
        "    synonyms = list(set(synonyms))\n",
        "    verbs = list(set(verbs))\n",
        "\n",
        "    print(f\"Word: {word}\")\n",
        "    print(f\"Synonyms: {', '.join(synonyms)}\")\n",
        "    print(f\"Verbs: {', '.join(verbs)}\")\n",
        "    print(\"\\n\")"
      ],
      "metadata": {
        "colab": {
          "base_uri": "https://localhost:8080/"
        },
        "id": "SWqU7P-PSr9Y",
        "outputId": "d75ade32-42a6-418d-d97f-45a7140409d0"
      },
      "execution_count": 15,
      "outputs": [
        {
          "output_type": "stream",
          "name": "stdout",
          "text": [
            "Word: bear\n",
            "Synonyms: stand, turn_out, endure, suffer, brook, comport, have, deliver, abide, hold, assume, expect, pay, deport, stomach, conduct, stick_out, acquit, accept, yield, behave, carry, give_birth, bear, support, put_up, take_over, have_a_bun_in_the_oven, tolerate, wear, contain, birth, digest, gestate\n",
            "Verbs: stand, turn_out, endure, suffer, brook, comport, have, deliver, abide, hold, assume, expect, pay, deport, stomach, conduct, stick_out, acquit, accept, yield, behave, carry, give_birth, bear, support, put_up, take_over, have_a_bun_in_the_oven, tolerate, wear, contain, birth, digest, gestate\n",
            "\n",
            "\n",
            "Word: set\n",
            "Synonyms: typeset, Seth, specify, hardening, stage_set, sic, hardened, lay, mark, fix, located, countersink, lot, fructify, position, readiness, exercise_set, jell, set_up, place, rigid, define, do, correct, determine, lay_out, fit, localise, pose, primed, dictated, plant, solidification, gear_up, prepare, rig, arrange, coif, curing, dress, adjust, band, put, ready, fixed, coiffure, bent, situated, set, Set, localize, laid, determined, limit, congeal, placed, circle, go_down, go_under, coiffe, solidifying\n",
            "Verbs: typeset, specify, sic, lay, mark, fix, countersink, fructify, position, jell, set_up, place, define, do, correct, determine, lay_out, localise, pose, plant, gear_up, prepare, rig, arrange, coif, dress, adjust, put, ready, coiffure, set, localize, limit, congeal, go_down, go_under, coiffe\n",
            "\n",
            "\n",
            "Word: square\n",
            "Synonyms: public_square, square, lame, hearty, satisfying, foursquare, square_up, second_power, straight, straightforward, solid, squarely, square_toes, substantial, feather\n",
            "Verbs: square, square_up, feather\n",
            "\n",
            "\n",
            "Word: lead\n",
            "Synonyms: pass, pencil_lead, wind, booster_cable, star, tether, leading, precede, tip, spark_advance, lead, atomic_number_82, lead-in, jumper_lead, result, top, conduct, Pb, lede, principal, jumper_cable, moderate, run, direct, steer, extend, confidential_information, leave, trail, hint, head, guide, track, take, contribute, chair, leash, lead_story, conduce, go\n",
            "Verbs: lead, run, contribute, direct, chair, result, pass, extend, top, leave, conduct, head, conduce, precede, guide, take, go, moderate\n",
            "\n",
            "\n",
            "Word: criteria\n",
            "Synonyms: touchstone, standard, criterion, measure\n",
            "Verbs: \n",
            "\n",
            "\n"
          ]
        }
      ]
    },
    {
      "cell_type": "code",
      "source": [
        "lemmatizer = WordNetLemmatizer()\n",
        "for word in words:\n",
        "    synonyms = []\n",
        "    adjectives = []\n",
        "    for syn in wordnet.synsets(word):\n",
        "        for lemma in syn.lemmas():\n",
        "            synonyms.append(lemma.name())\n",
        "    synonyms = list(set(synonyms))\n",
        "    for synonym in synonyms:\n",
        "        pos = wordnet.synsets(synonym)[0].pos()\n",
        "        if pos == 'a':\n",
        "            adjectives.append(lemmatizer.lemmatize(synonym, pos='a'))\n",
        "    adjectives = list(set(adjectives))\n",
        "    print(f\"Adjectives for {word}: {', '.join(adjectives)}\")"
      ],
      "metadata": {
        "colab": {
          "base_uri": "https://localhost:8080/"
        },
        "id": "satLvunVZHNS",
        "outputId": "e417b0d2-305d-4421-fe9f-61439d795547"
      },
      "execution_count": 19,
      "outputs": [
        {
          "output_type": "stream",
          "name": "stdout",
          "text": [
            "Adjectives for bear: \n",
            "Adjectives for set: \n",
            "Adjectives for square: \n",
            "Adjectives for lead: \n",
            "Adjectives for criteria: \n"
          ]
        }
      ]
    },
    {
      "cell_type": "code",
      "source": [
        "for word in words:\n",
        "    synonyms = []\n",
        "    adverbs = []\n",
        "    for syn in wordnet.synsets(word):\n",
        "        for lemma in syn.lemmas():\n",
        "            synonyms.append(lemma.name())\n",
        "            if lemma.pertainyms():\n",
        "                adverbs.append(lemma.pertainyms()[0].name())\n",
        "    synonyms = list(set(synonyms))\n",
        "    adverbs = list(set(adverbs))\n",
        "    print(f\"Adverbs for synonyms of {word}: {', '.join(adverbs)}\")"
      ],
      "metadata": {
        "id": "uqIMa85CZPgK",
        "colab": {
          "base_uri": "https://localhost:8080/"
        },
        "outputId": "2adc0f67-c14e-4f0b-bd4e-3dfd79b7fc82"
      },
      "execution_count": 20,
      "outputs": [
        {
          "output_type": "stream",
          "name": "stdout",
          "text": [
            "Adverbs for synonyms of bear: \n",
            "Adverbs for synonyms of set: \n",
            "Adverbs for synonyms of square: square\n",
            "Adverbs for synonyms of lead: \n",
            "Adverbs for synonyms of criteria: \n"
          ]
        }
      ]
    },
    {
      "cell_type": "code",
      "source": [
        "for word in words:\n",
        "    synsets = wordnet.synsets(word)\n",
        "    if synsets:\n",
        "        definition = synsets[0].definition()\n",
        "        print(f\"Definition of {word}: {definition}\")\n",
        "    else:\n",
        "        print(f\"No definition found for {word}\")"
      ],
      "metadata": {
        "colab": {
          "base_uri": "https://localhost:8080/"
        },
        "id": "3DPvIWeYkvwz",
        "outputId": "eeb6aad2-0b34-441d-cb17-ff095c3fbcef"
      },
      "execution_count": 21,
      "outputs": [
        {
          "output_type": "stream",
          "name": "stdout",
          "text": [
            "Definition of bear: massive plantigrade carnivorous or omnivorous mammals with long shaggy coats and strong claws\n",
            "Definition of set: a group of things of the same kind that belong together and are so used\n",
            "Definition of square: (geometry) a plane rectangle with four equal sides and four right angles; a four-sided regular polygon\n",
            "Definition of lead: an advantage held by a competitor in a race\n",
            "Definition of criteria: a basis for comparison; a reference point against which other things can be evaluated\n"
          ]
        }
      ]
    },
    {
      "cell_type": "code",
      "source": [
        "for word in words:\n",
        "    synsets = wordnet.synsets(word)\n",
        "    if synsets:\n",
        "        hypernyms = synsets[0].hypernyms()\n",
        "        hypernyms_names = [hypernym.name().split('.')[0] for hypernym in hypernyms]\n",
        "        print(f\"Hypernyms of {word}: {', '.join(hypernyms_names)}\")\n",
        "    else:\n",
        "        print(f\"No hypernyms found for {word}\")"
      ],
      "metadata": {
        "colab": {
          "base_uri": "https://localhost:8080/"
        },
        "id": "lgM0vnEWk6c6",
        "outputId": "682a00d0-2510-41ab-9173-526c7d5c2c84"
      },
      "execution_count": 22,
      "outputs": [
        {
          "output_type": "stream",
          "name": "stdout",
          "text": [
            "Hypernyms of bear: carnivore\n",
            "Hypernyms of set: collection\n",
            "Hypernyms of square: rectangle, regular_polygon\n",
            "Hypernyms of lead: advantage\n",
            "Hypernyms of criteria: system_of_measurement\n"
          ]
        }
      ]
    },
    {
      "cell_type": "code",
      "source": [
        "for word in words:\n",
        "    synsets = wordnet.synsets(word)\n",
        "    if synsets:\n",
        "        hyponyms = synsets[0].hyponyms()\n",
        "        hyponyms_names = [hyponym.name().split('.')[0] for hyponym in hyponyms]\n",
        "        print(f\"Hyponyms of {word}: {', '.join(hyponyms_names)}\")\n",
        "    else:\n",
        "        print(f\"No hyponyms found for {word}\")"
      ],
      "metadata": {
        "colab": {
          "base_uri": "https://localhost:8080/"
        },
        "id": "tCKy3rZalGrG",
        "outputId": "f9783c61-147e-41f6-cb22-2bdcdfdf3cfe"
      },
      "execution_count": 23,
      "outputs": [
        {
          "output_type": "stream",
          "name": "stdout",
          "text": [
            "Hyponyms of bear: american_black_bear, asiatic_black_bear, bear_cub, brown_bear, bruin, ice_bear, sloth_bear\n",
            "Hyponyms of set: bracket, chess_set, choir, conjugation, core, dentition, field, field, field, intersection, manicure_set, octet, pair, portfolio, quartet, quintet, score, septet, sextet, singleton, suite, synset, threescore, trio, union\n",
            "Hyponyms of square: quadrate\n",
            "Hyponyms of lead: \n",
            "Hyponyms of criteria: baseline, benchmark, earned_run_average, gauge, grade_point_average, medium_of_exchange, norm, procrustean_standard, scale, yardstick\n"
          ]
        }
      ]
    },
    {
      "cell_type": "code",
      "source": [
        "def get_hyponyms(word):\n",
        "    synsets = wordnet.synsets(word)\n",
        "    return [hyponym.name().split('.')[0] for hyponym in synsets[0].hyponyms()] if synsets else []\n",
        "\n",
        "for target_word in words:\n",
        "    hyponyms = get_hyponyms(target_word)\n",
        "\n",
        "    if len(hyponyms) >= 2:\n",
        "        hyponym1, hyponym2 = hyponyms[:2]\n",
        "        similarity = wordnet.synsets(hyponym1)[0].wup_similarity(wordnet.synsets(hyponym2)[0])\n",
        "\n",
        "        print(f\"Similarity between '{hyponym1}' and '{hyponym2}' for '{target_word}': {similarity}\")\n",
        "    else:\n",
        "        print(f\"Not enough hyponyms found for {target_word}\")"
      ],
      "metadata": {
        "colab": {
          "base_uri": "https://localhost:8080/"
        },
        "id": "qOwE8m2AlPtf",
        "outputId": "82a0b302-1e32-4f59-e5bc-b2e1e23a6498"
      },
      "execution_count": 24,
      "outputs": [
        {
          "output_type": "stream",
          "name": "stdout",
          "text": [
            "Similarity between 'american_black_bear' and 'asiatic_black_bear' for 'bear': 0.9285714285714286\n",
            "Similarity between 'bracket' and 'chess_set' for 'set': 0.8333333333333334\n",
            "Not enough hyponyms found for square\n",
            "Not enough hyponyms found for lead\n",
            "Similarity between 'baseline' and 'benchmark' for 'criteria': 0.8333333333333334\n"
          ]
        }
      ]
    },
    {
      "cell_type": "code",
      "source": [],
      "metadata": {
        "id": "cQ6Zfn2Rlrjp"
      },
      "execution_count": null,
      "outputs": []
    }
  ]
}