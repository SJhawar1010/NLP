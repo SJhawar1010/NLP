{
  "nbformat": 4,
  "nbformat_minor": 0,
  "metadata": {
    "colab": {
      "provenance": [],
      "authorship_tag": "ABX9TyMrFp0eun4eZLoOG52MU76C",
      "include_colab_link": true
    },
    "kernelspec": {
      "name": "python3",
      "display_name": "Python 3"
    },
    "language_info": {
      "name": "python"
    }
  },
  "cells": [
    {
      "cell_type": "markdown",
      "metadata": {
        "id": "view-in-github",
        "colab_type": "text"
      },
      "source": [
        "<a href=\"https://colab.research.google.com/github/SJhawar1010/NLP/blob/main/Satyam_554_Lab9.ipynb\" target=\"_parent\"><img src=\"https://colab.research.google.com/assets/colab-badge.svg\" alt=\"Open In Colab\"/></a>"
      ]
    },
    {
      "cell_type": "code",
      "execution_count": 1,
      "metadata": {
        "id": "VpYFry8HutEh"
      },
      "outputs": [],
      "source": [
        "import numpy as np"
      ]
    },
    {
      "cell_type": "code",
      "source": [
        "str1 = \"kitten\"\n",
        "str2 = \"sitting\""
      ],
      "metadata": {
        "id": "lhm_hqUhvBRX"
      },
      "execution_count": 2,
      "outputs": []
    },
    {
      "cell_type": "code",
      "source": [
        "m = len(str1)\n",
        "n = len(str2)"
      ],
      "metadata": {
        "id": "djaObX-tvC-M"
      },
      "execution_count": 3,
      "outputs": []
    },
    {
      "cell_type": "code",
      "source": [
        "dp = np.zeros((m+1, n+1))"
      ],
      "metadata": {
        "id": "RZIQJ4q8vEeu"
      },
      "execution_count": 4,
      "outputs": []
    },
    {
      "cell_type": "code",
      "source": [
        "for i in range(m+1):\n",
        "    dp[i][0] = i\n",
        "for j in range(n+1):\n",
        "    dp[0][j] = j"
      ],
      "metadata": {
        "id": "Ipz8i1f7vGIU"
      },
      "execution_count": 5,
      "outputs": []
    },
    {
      "cell_type": "code",
      "source": [
        "for i in range(1, m+1):\n",
        "    for j in range(1, n+1):\n",
        "        if str1[i-1] == str2[j-1]:\n",
        "            dp[i][j] = dp[i-1][j-1]\n",
        "        else:\n",
        "            dp[i][j] = 1 + min(dp[i-1][j], dp[i][j-1], dp[i-1][j-1])"
      ],
      "metadata": {
        "id": "8Rxc24sDvIBa"
      },
      "execution_count": 6,
      "outputs": []
    },
    {
      "cell_type": "code",
      "source": [
        "edit_distance = dp[m][n]"
      ],
      "metadata": {
        "id": "SlVMrX8BvPsC"
      },
      "execution_count": 7,
      "outputs": []
    },
    {
      "cell_type": "code",
      "source": [
        "print(\"Edit distance between '{}' and '{}' is: {}\".format(str1, str2, int(edit_distance)))"
      ],
      "metadata": {
        "colab": {
          "base_uri": "https://localhost:8080/"
        },
        "id": "3yWkI1DavRo0",
        "outputId": "0429473b-e670-4e7f-d3d5-dfb5278e3dfa"
      },
      "execution_count": 8,
      "outputs": [
        {
          "output_type": "stream",
          "name": "stdout",
          "text": [
            "Edit distance between 'kitten' and 'sitting' is: 3\n"
          ]
        }
      ]
    },
    {
      "cell_type": "code",
      "source": [
        "import random"
      ],
      "metadata": {
        "id": "Y-0QTX0tvTR_"
      },
      "execution_count": 9,
      "outputs": []
    },
    {
      "cell_type": "code",
      "source": [
        "keywords = {\n",
        "    \"place\": [\"forest\", \"castle\", \"beach\", \"mountain\", \"city\"],\n",
        "    \"character\": [\"wizard\", \"princess\", \"knight\", \"dragon\", \"pirate\"],\n",
        "    \"action\": [\"explore\", \"fight\", \"discover\", \"rescue\", \"escape\"]\n",
        "}"
      ],
      "metadata": {
        "id": "bVekLGdWvjx3"
      },
      "execution_count": 10,
      "outputs": []
    },
    {
      "cell_type": "code",
      "source": [
        "place = random.choice(keywords[\"place\"])\n",
        "character = random.choice(keywords[\"character\"])\n",
        "action = random.choice(keywords[\"action\"])"
      ],
      "metadata": {
        "id": "iloXEta2vlaZ"
      },
      "execution_count": 11,
      "outputs": []
    },
    {
      "cell_type": "code",
      "source": [
        "story = f\"In a {place}, there lived a {character}. One day, the {character} decided to {action}.\""
      ],
      "metadata": {
        "id": "nJlwtd9MvnVB"
      },
      "execution_count": 12,
      "outputs": []
    },
    {
      "cell_type": "code",
      "source": [
        "print(story)"
      ],
      "metadata": {
        "colab": {
          "base_uri": "https://localhost:8080/"
        },
        "id": "B598FmX3vpJ-",
        "outputId": "f9563acb-d135-4739-9d4b-7bb39d9cf4ab"
      },
      "execution_count": 13,
      "outputs": [
        {
          "output_type": "stream",
          "name": "stdout",
          "text": [
            "In a forest, there lived a princess. One day, the princess decided to explore.\n"
          ]
        }
      ]
    },
    {
      "cell_type": "code",
      "source": [],
      "metadata": {
        "id": "xb3hxLrIvrKr"
      },
      "execution_count": null,
      "outputs": []
    }
  ]
}