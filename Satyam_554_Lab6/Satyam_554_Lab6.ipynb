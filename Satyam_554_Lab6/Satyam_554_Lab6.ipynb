{
  "nbformat": 4,
  "nbformat_minor": 0,
  "metadata": {
    "colab": {
      "provenance": []
    },
    "kernelspec": {
      "name": "python3",
      "display_name": "Python 3"
    },
    "language_info": {
      "name": "python"
    }
  },
  "cells": [
    {
      "cell_type": "code",
      "execution_count": 1,
      "metadata": {
        "id": "G_ckqG3SNVxx"
      },
      "outputs": [],
      "source": [
        "import random\n",
        "import json\n",
        "import numpy as np\n",
        "import nltk\n",
        "from nltk.stem import WordNetLemmatizer\n",
        "from tensorflow.keras.models import Sequential\n",
        "from tensorflow.keras.layers import Dense, Activation, Dropout, Input\n",
        "from tensorflow.keras.optimizers import SGD"
      ]
    },
    {
      "cell_type": "code",
      "source": [
        "import nltk\n",
        "nltk.download('punkt')"
      ],
      "metadata": {
        "colab": {
          "base_uri": "https://localhost:8080/"
        },
        "id": "NgBBPaOmNwwF",
        "outputId": "86341c53-bc6f-483c-c084-a2a173c221d4"
      },
      "execution_count": 4,
      "outputs": [
        {
          "output_type": "stream",
          "name": "stderr",
          "text": [
            "[nltk_data] Downloading package punkt to /root/nltk_data...\n",
            "[nltk_data]   Unzipping tokenizers/punkt.zip.\n"
          ]
        },
        {
          "output_type": "execute_result",
          "data": {
            "text/plain": [
              "True"
            ]
          },
          "metadata": {},
          "execution_count": 4
        }
      ]
    },
    {
      "cell_type": "code",
      "source": [
        "nltk.download('wordnet')"
      ],
      "metadata": {
        "colab": {
          "base_uri": "https://localhost:8080/"
        },
        "id": "5Vs9I1ulN2Qk",
        "outputId": "81925d02-3bc6-4bd5-dafc-b4f28f32b92c"
      },
      "execution_count": 6,
      "outputs": [
        {
          "output_type": "stream",
          "name": "stderr",
          "text": [
            "[nltk_data] Downloading package wordnet to /root/nltk_data...\n"
          ]
        },
        {
          "output_type": "execute_result",
          "data": {
            "text/plain": [
              "True"
            ]
          },
          "metadata": {},
          "execution_count": 6
        }
      ]
    },
    {
      "cell_type": "code",
      "source": [
        "lemmatizer=WordNetLemmatizer()\n",
        "intents=json.loads(open('intents.json').read())\n",
        "words=[]\n",
        "classes=[]\n",
        "documents=[]\n",
        "ignore_letters=['?','!',',','.']\n",
        "for intent in intents['intents']:\n",
        "    for pattern in intent['patterns']:\n",
        "        word_list=nltk.word_tokenize(pattern)\n",
        "        words.extend(word_list)\n",
        "        documents.append((word_list,intent['tag']))\n",
        "        if intent['tag'] not in classes:\n",
        "            classes.append(intent['tag'])\n",
        "words=[lemmatizer.lemmatize(word) for word in words if word not in ignore_letters]\n",
        "words=sorted(set(words))"
      ],
      "metadata": {
        "id": "ESZsTN0MNWmi"
      },
      "execution_count": 7,
      "outputs": []
    },
    {
      "cell_type": "code",
      "source": [
        "training=[]\n",
        "output_empty=[0]*len(classes)\n",
        "for document in documents:\n",
        "    bag=[]\n",
        "    word_patterns=document[0]\n",
        "    word_patterns=[lemmatizer.lemmatize(word.lower()) for word in word_patterns]\n",
        "    for word in words:\n",
        "        bag.append(1) if word in word_patterns else bag.append(0)\n",
        "    output_row=list(output_empty)\n",
        "    output_row[classes.index(document[1])]=1\n",
        "    training.append([bag,output_row])\n",
        "random.shuffle(training)\n",
        "training=np.array(training, dtype=object)\n",
        "train_x=list(training[:,0])\n",
        "train_y=list(training[:,1])"
      ],
      "metadata": {
        "id": "pdxmFGUyNcbh"
      },
      "execution_count": 8,
      "outputs": []
    },
    {
      "cell_type": "code",
      "source": [
        "model=Sequential()\n",
        "model.add(Input(shape=(len(train_x[0]),)))\n",
        "model.add(Dense(128,activation='relu'))\n",
        "model.add(Dropout(0.5))\n",
        "model.add(Dense(64,activation='relu'))\n",
        "model.add(Dropout(0.5))\n",
        "model.add(Dense(len(train_y[0]),activation='softmax'))\n",
        "sgd = SGD(learning_rate=0.01, momentum=0.9, nesterov=True)\n",
        "model.compile(loss='categorical_crossentropy',optimizer=sgd,metrics=['accuracy'])\n",
        "model.fit(np.array(train_x),np.array(train_y),epochs=50,batch_size=5, verbose=1)"
      ],
      "metadata": {
        "colab": {
          "base_uri": "https://localhost:8080/"
        },
        "id": "sV6aIGAmN4L3",
        "outputId": "a881ce65-0267-4451-b987-cc3d74a2b923"
      },
      "execution_count": 9,
      "outputs": [
        {
          "output_type": "stream",
          "name": "stdout",
          "text": [
            "Epoch 1/50\n",
            "6/6 [==============================] - 2s 5ms/step - loss: 1.5919 - accuracy: 0.2857\n",
            "Epoch 2/50\n",
            "6/6 [==============================] - 0s 4ms/step - loss: 1.6110 - accuracy: 0.2500\n",
            "Epoch 3/50\n",
            "6/6 [==============================] - 0s 3ms/step - loss: 1.4789 - accuracy: 0.3214\n",
            "Epoch 4/50\n",
            "6/6 [==============================] - 0s 4ms/step - loss: 1.4354 - accuracy: 0.5000\n",
            "Epoch 5/50\n",
            "6/6 [==============================] - 0s 5ms/step - loss: 1.3807 - accuracy: 0.5714\n",
            "Epoch 6/50\n",
            "6/6 [==============================] - 0s 3ms/step - loss: 1.3071 - accuracy: 0.7143\n",
            "Epoch 7/50\n",
            "6/6 [==============================] - 0s 4ms/step - loss: 1.2664 - accuracy: 0.5357\n",
            "Epoch 8/50\n",
            "6/6 [==============================] - 0s 3ms/step - loss: 1.1453 - accuracy: 0.6071\n",
            "Epoch 9/50\n",
            "6/6 [==============================] - 0s 4ms/step - loss: 1.0551 - accuracy: 0.7143\n",
            "Epoch 10/50\n",
            "6/6 [==============================] - 0s 4ms/step - loss: 1.0820 - accuracy: 0.6429\n",
            "Epoch 11/50\n",
            "6/6 [==============================] - 0s 3ms/step - loss: 0.9787 - accuracy: 0.7143\n",
            "Epoch 12/50\n",
            "6/6 [==============================] - 0s 4ms/step - loss: 0.9471 - accuracy: 0.5357\n",
            "Epoch 13/50\n",
            "6/6 [==============================] - 0s 4ms/step - loss: 0.9568 - accuracy: 0.6786\n",
            "Epoch 14/50\n",
            "6/6 [==============================] - 0s 4ms/step - loss: 0.9804 - accuracy: 0.6429\n",
            "Epoch 15/50\n",
            "6/6 [==============================] - 0s 5ms/step - loss: 0.9381 - accuracy: 0.7143\n",
            "Epoch 16/50\n",
            "6/6 [==============================] - 0s 4ms/step - loss: 0.7816 - accuracy: 0.8214\n",
            "Epoch 17/50\n",
            "6/6 [==============================] - 0s 4ms/step - loss: 0.8634 - accuracy: 0.8214\n",
            "Epoch 18/50\n",
            "6/6 [==============================] - 0s 4ms/step - loss: 0.7285 - accuracy: 0.8214\n",
            "Epoch 19/50\n",
            "6/6 [==============================] - 0s 4ms/step - loss: 0.7287 - accuracy: 0.7857\n",
            "Epoch 20/50\n",
            "6/6 [==============================] - 0s 4ms/step - loss: 0.6645 - accuracy: 0.8571\n",
            "Epoch 21/50\n",
            "6/6 [==============================] - 0s 3ms/step - loss: 0.8079 - accuracy: 0.7143\n",
            "Epoch 22/50\n",
            "6/6 [==============================] - 0s 4ms/step - loss: 0.5535 - accuracy: 0.8929\n",
            "Epoch 23/50\n",
            "6/6 [==============================] - 0s 3ms/step - loss: 0.6561 - accuracy: 0.8571\n",
            "Epoch 24/50\n",
            "6/6 [==============================] - 0s 4ms/step - loss: 0.5725 - accuracy: 0.8571\n",
            "Epoch 25/50\n",
            "6/6 [==============================] - 0s 4ms/step - loss: 0.7258 - accuracy: 0.6429\n",
            "Epoch 26/50\n",
            "6/6 [==============================] - 0s 4ms/step - loss: 0.6378 - accuracy: 0.7857\n",
            "Epoch 27/50\n",
            "6/6 [==============================] - 0s 4ms/step - loss: 0.5852 - accuracy: 0.7857\n",
            "Epoch 28/50\n",
            "6/6 [==============================] - 0s 6ms/step - loss: 0.5840 - accuracy: 0.7857\n",
            "Epoch 29/50\n",
            "6/6 [==============================] - 0s 4ms/step - loss: 0.5232 - accuracy: 0.7857\n",
            "Epoch 30/50\n",
            "6/6 [==============================] - 0s 5ms/step - loss: 0.5719 - accuracy: 0.7857\n",
            "Epoch 31/50\n",
            "6/6 [==============================] - 0s 4ms/step - loss: 0.5602 - accuracy: 0.7857\n",
            "Epoch 32/50\n",
            "6/6 [==============================] - 0s 4ms/step - loss: 0.5073 - accuracy: 0.8571\n",
            "Epoch 33/50\n",
            "6/6 [==============================] - 0s 4ms/step - loss: 0.5090 - accuracy: 0.8214\n",
            "Epoch 34/50\n",
            "6/6 [==============================] - 0s 5ms/step - loss: 0.4272 - accuracy: 0.8929\n",
            "Epoch 35/50\n",
            "6/6 [==============================] - 0s 3ms/step - loss: 0.5433 - accuracy: 0.8214\n",
            "Epoch 36/50\n",
            "6/6 [==============================] - 0s 4ms/step - loss: 0.4912 - accuracy: 0.8571\n",
            "Epoch 37/50\n",
            "6/6 [==============================] - 0s 4ms/step - loss: 0.4465 - accuracy: 0.8571\n",
            "Epoch 38/50\n",
            "6/6 [==============================] - 0s 3ms/step - loss: 0.4166 - accuracy: 0.8571\n",
            "Epoch 39/50\n",
            "6/6 [==============================] - 0s 4ms/step - loss: 0.4106 - accuracy: 0.8571\n",
            "Epoch 40/50\n",
            "6/6 [==============================] - 0s 4ms/step - loss: 0.4298 - accuracy: 0.8929\n",
            "Epoch 41/50\n",
            "6/6 [==============================] - 0s 3ms/step - loss: 0.4000 - accuracy: 0.8571\n",
            "Epoch 42/50\n",
            "6/6 [==============================] - 0s 4ms/step - loss: 0.4226 - accuracy: 0.8214\n",
            "Epoch 43/50\n",
            "6/6 [==============================] - 0s 4ms/step - loss: 0.3399 - accuracy: 0.8929\n",
            "Epoch 44/50\n",
            "6/6 [==============================] - 0s 4ms/step - loss: 0.4094 - accuracy: 0.8214\n",
            "Epoch 45/50\n",
            "6/6 [==============================] - 0s 3ms/step - loss: 0.4512 - accuracy: 0.7857\n",
            "Epoch 46/50\n",
            "6/6 [==============================] - 0s 4ms/step - loss: 0.2914 - accuracy: 0.8929\n",
            "Epoch 47/50\n",
            "6/6 [==============================] - 0s 3ms/step - loss: 0.3873 - accuracy: 0.8571\n",
            "Epoch 48/50\n",
            "6/6 [==============================] - 0s 3ms/step - loss: 0.3737 - accuracy: 0.8929\n",
            "Epoch 49/50\n",
            "6/6 [==============================] - 0s 4ms/step - loss: 0.3539 - accuracy: 0.8571\n",
            "Epoch 50/50\n",
            "6/6 [==============================] - 0s 4ms/step - loss: 0.4588 - accuracy: 0.8571\n"
          ]
        },
        {
          "output_type": "execute_result",
          "data": {
            "text/plain": [
              "<keras.src.callbacks.History at 0x7d19ed536e30>"
            ]
          },
          "metadata": {},
          "execution_count": 9
        }
      ]
    },
    {
      "cell_type": "code",
      "source": [
        "def clean_up_sentence(sentence):\n",
        "    sentence_words=nltk.word_tokenize(sentence)\n",
        "    sentence_words=[lemmatizer.lemmatize(word) for word in sentence_words]\n",
        "    return sentence_words\n",
        "\n",
        "def bag_of_words(sentence):\n",
        "    sentence_words=clean_up_sentence(sentence)\n",
        "    bag=[0]*len(words)\n",
        "    for w in sentence_words:\n",
        "        for i, word in enumerate(words):\n",
        "            if word==w:\n",
        "                bag[i]=1\n",
        "    return np.array(bag)\n",
        "\n",
        "def predict_class(sentence):\n",
        "    bow=bag_of_words(sentence)\n",
        "    res=model.predict(np.array([bow]))[0]\n",
        "    error_threshold=0.25\n",
        "    results=[[i,r] for i,r in enumerate(res) if r>error_threshold]\n",
        "    results.sort(key=lambda x:x[1], reverse=True)\n",
        "    return_list=[]\n",
        "    for r in results:\n",
        "        return_list.append({'intent':classes[r[0]],'probability':str(r[1])})\n",
        "    return return_list\n",
        "\n",
        "def get_response(intents,intents_json):\n",
        "    tag=intents[0]['intent']\n",
        "    list_of_intents=intents_json['intents']\n",
        "    for i in list_of_intents:\n",
        "        if i['tag']==tag:\n",
        "            result=random.choice(i['responses'])\n",
        "            break\n",
        "    return result"
      ],
      "metadata": {
        "id": "QtiYqdzYN9Ko"
      },
      "execution_count": 10,
      "outputs": []
    },
    {
      "cell_type": "code",
      "source": [
        "while True:\n",
        "    message=input(\"\")\n",
        "    ints=predict_class(message)\n",
        "    res=get_response(ints,intents)\n",
        "    print(res)"
      ],
      "metadata": {
        "colab": {
          "base_uri": "https://localhost:8080/",
          "height": 1000
        },
        "id": "CfYw698OOCh8",
        "outputId": "09a5e0ca-21f6-4452-8b90-641e3784983e"
      },
      "execution_count": 11,
      "outputs": [
        {
          "output_type": "stream",
          "name": "stdout",
          "text": [
            "hello\n",
            "1/1 [==============================] - 0s 125ms/step\n",
            "Good to see you again!\n",
            "how are you doing\n",
            "1/1 [==============================] - 0s 23ms/step\n",
            "Hello!\n",
            "programming\n",
            "1/1 [==============================] - 0s 21ms/step\n",
            "Start with the book named Let us C by Yashwant Kanetkar\n",
            "why'\n",
            "1/1 [==============================] - 0s 38ms/step\n",
            "Hello!\n",
            "exit\n",
            "1/1 [==============================] - 0s 19ms/step\n",
            "Hello!\n",
            "thanks\n",
            "1/1 [==============================] - 0s 23ms/step\n",
            "Hello!\n",
            "bye\n",
            "1/1 [==============================] - 0s 21ms/step\n",
            "Goodbye!\n",
            "\n",
            "1/1 [==============================] - 0s 19ms/step\n",
            "Hi there, how can I help?\n",
            "no help\n",
            "1/1 [==============================] - 0s 24ms/step\n",
            "Hi there, how can I help?\n",
            "no\n",
            "1/1 [==============================] - 0s 23ms/step\n",
            "Hi there, how can I help?\n",
            "bye\n",
            "1/1 [==============================] - 0s 44ms/step\n",
            "Sad to see you go :(\n",
            "thank\n",
            "1/1 [==============================] - 0s 23ms/step\n",
            "Hi there, how can I help?\n",
            "thanks\n",
            "1/1 [==============================] - 0s 26ms/step\n",
            "Hello!\n",
            "thank you\n",
            "1/1 [==============================] - 0s 23ms/step\n",
            "Hello!\n",
            "bye\n",
            "1/1 [==============================] - 0s 19ms/step\n",
            "Sad to see you go :(\n"
          ]
        },
        {
          "output_type": "error",
          "ename": "KeyboardInterrupt",
          "evalue": "Interrupted by user",
          "traceback": [
            "\u001b[0;31m---------------------------------------------------------------------------\u001b[0m",
            "\u001b[0;31mKeyboardInterrupt\u001b[0m                         Traceback (most recent call last)",
            "\u001b[0;32m<ipython-input-11-61f66b53fa9b>\u001b[0m in \u001b[0;36m<cell line: 1>\u001b[0;34m()\u001b[0m\n\u001b[1;32m      1\u001b[0m \u001b[0;32mwhile\u001b[0m \u001b[0;32mTrue\u001b[0m\u001b[0;34m:\u001b[0m\u001b[0;34m\u001b[0m\u001b[0;34m\u001b[0m\u001b[0m\n\u001b[0;32m----> 2\u001b[0;31m     \u001b[0mmessage\u001b[0m\u001b[0;34m=\u001b[0m\u001b[0minput\u001b[0m\u001b[0;34m(\u001b[0m\u001b[0;34m\"\"\u001b[0m\u001b[0;34m)\u001b[0m\u001b[0;34m\u001b[0m\u001b[0;34m\u001b[0m\u001b[0m\n\u001b[0m\u001b[1;32m      3\u001b[0m     \u001b[0mints\u001b[0m\u001b[0;34m=\u001b[0m\u001b[0mpredict_class\u001b[0m\u001b[0;34m(\u001b[0m\u001b[0mmessage\u001b[0m\u001b[0;34m)\u001b[0m\u001b[0;34m\u001b[0m\u001b[0;34m\u001b[0m\u001b[0m\n\u001b[1;32m      4\u001b[0m     \u001b[0mres\u001b[0m\u001b[0;34m=\u001b[0m\u001b[0mget_response\u001b[0m\u001b[0;34m(\u001b[0m\u001b[0mints\u001b[0m\u001b[0;34m,\u001b[0m\u001b[0mintents\u001b[0m\u001b[0;34m)\u001b[0m\u001b[0;34m\u001b[0m\u001b[0;34m\u001b[0m\u001b[0m\n\u001b[1;32m      5\u001b[0m     \u001b[0mprint\u001b[0m\u001b[0;34m(\u001b[0m\u001b[0mres\u001b[0m\u001b[0;34m)\u001b[0m\u001b[0;34m\u001b[0m\u001b[0;34m\u001b[0m\u001b[0m\n",
            "\u001b[0;32m/usr/local/lib/python3.10/dist-packages/ipykernel/kernelbase.py\u001b[0m in \u001b[0;36mraw_input\u001b[0;34m(self, prompt)\u001b[0m\n\u001b[1;32m    849\u001b[0m                 \u001b[0;34m\"raw_input was called, but this frontend does not support input requests.\"\u001b[0m\u001b[0;34m\u001b[0m\u001b[0;34m\u001b[0m\u001b[0m\n\u001b[1;32m    850\u001b[0m             )\n\u001b[0;32m--> 851\u001b[0;31m         return self._input_request(str(prompt),\n\u001b[0m\u001b[1;32m    852\u001b[0m             \u001b[0mself\u001b[0m\u001b[0;34m.\u001b[0m\u001b[0m_parent_ident\u001b[0m\u001b[0;34m,\u001b[0m\u001b[0;34m\u001b[0m\u001b[0;34m\u001b[0m\u001b[0m\n\u001b[1;32m    853\u001b[0m             \u001b[0mself\u001b[0m\u001b[0;34m.\u001b[0m\u001b[0m_parent_header\u001b[0m\u001b[0;34m,\u001b[0m\u001b[0;34m\u001b[0m\u001b[0;34m\u001b[0m\u001b[0m\n",
            "\u001b[0;32m/usr/local/lib/python3.10/dist-packages/ipykernel/kernelbase.py\u001b[0m in \u001b[0;36m_input_request\u001b[0;34m(self, prompt, ident, parent, password)\u001b[0m\n\u001b[1;32m    893\u001b[0m             \u001b[0;32mexcept\u001b[0m \u001b[0mKeyboardInterrupt\u001b[0m\u001b[0;34m:\u001b[0m\u001b[0;34m\u001b[0m\u001b[0;34m\u001b[0m\u001b[0m\n\u001b[1;32m    894\u001b[0m                 \u001b[0;31m# re-raise KeyboardInterrupt, to truncate traceback\u001b[0m\u001b[0;34m\u001b[0m\u001b[0;34m\u001b[0m\u001b[0m\n\u001b[0;32m--> 895\u001b[0;31m                 \u001b[0;32mraise\u001b[0m \u001b[0mKeyboardInterrupt\u001b[0m\u001b[0;34m(\u001b[0m\u001b[0;34m\"Interrupted by user\"\u001b[0m\u001b[0;34m)\u001b[0m \u001b[0;32mfrom\u001b[0m \u001b[0;32mNone\u001b[0m\u001b[0;34m\u001b[0m\u001b[0;34m\u001b[0m\u001b[0m\n\u001b[0m\u001b[1;32m    896\u001b[0m             \u001b[0;32mexcept\u001b[0m \u001b[0mException\u001b[0m \u001b[0;32mas\u001b[0m \u001b[0me\u001b[0m\u001b[0;34m:\u001b[0m\u001b[0;34m\u001b[0m\u001b[0;34m\u001b[0m\u001b[0m\n\u001b[1;32m    897\u001b[0m                 \u001b[0mself\u001b[0m\u001b[0;34m.\u001b[0m\u001b[0mlog\u001b[0m\u001b[0;34m.\u001b[0m\u001b[0mwarning\u001b[0m\u001b[0;34m(\u001b[0m\u001b[0;34m\"Invalid Message:\"\u001b[0m\u001b[0;34m,\u001b[0m \u001b[0mexc_info\u001b[0m\u001b[0;34m=\u001b[0m\u001b[0;32mTrue\u001b[0m\u001b[0;34m)\u001b[0m\u001b[0;34m\u001b[0m\u001b[0;34m\u001b[0m\u001b[0m\n",
            "\u001b[0;31mKeyboardInterrupt\u001b[0m: Interrupted by user"
          ]
        }
      ]
    },
    {
      "cell_type": "code",
      "source": [],
      "metadata": {
        "id": "0pSvr3L_OFr3"
      },
      "execution_count": null,
      "outputs": []
    }
  ]
}