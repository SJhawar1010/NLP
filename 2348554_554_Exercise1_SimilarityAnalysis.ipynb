{
  "nbformat": 4,
  "nbformat_minor": 0,
  "metadata": {
    "colab": {
      "provenance": [],
      "authorship_tag": "ABX9TyOjW3w1zPrNby+zyidESMqj",
      "include_colab_link": true
    },
    "kernelspec": {
      "name": "python3",
      "display_name": "Python 3"
    },
    "language_info": {
      "name": "python"
    }
  },
  "cells": [
    {
      "cell_type": "markdown",
      "metadata": {
        "id": "view-in-github",
        "colab_type": "text"
      },
      "source": [
        "<a href=\"https://colab.research.google.com/github/SJhawar1010/NLP/blob/main/2348554_554_Exercise1_SimilarityAnalysis.ipynb\" target=\"_parent\"><img src=\"https://colab.research.google.com/assets/colab-badge.svg\" alt=\"Open In Colab\"/></a>"
      ]
    },
    {
      "cell_type": "code",
      "execution_count": 24,
      "metadata": {
        "id": "GatHLQ3S1QNk"
      },
      "outputs": [],
      "source": [
        "from sklearn.feature_extraction.text import CountVectorizer\n",
        "from sklearn.metrics.pairwise import cosine_similarity"
      ]
    },
    {
      "cell_type": "code",
      "source": [
        "def calculate_cosine_similarity(doc1, doc2):\n",
        "    vectorizer = CountVectorizer()\n",
        "    matrix = vectorizer.fit_transform([doc1, doc2])\n",
        "    cosine_sim = cosine_similarity(matrix)\n",
        "    return cosine_sim[0, 1]"
      ],
      "metadata": {
        "id": "OpwWKlpm34hC"
      },
      "execution_count": 25,
      "outputs": []
    },
    {
      "cell_type": "code",
      "source": [
        "document1 = \"This is a sample text for similarity calculation.\"\n",
        "document2 = \"A similar text for testing cosine similarity.\""
      ],
      "metadata": {
        "id": "WDQFlcx837FX"
      },
      "execution_count": 26,
      "outputs": []
    },
    {
      "cell_type": "code",
      "source": [
        "similarity_score = calculate_cosine_similarity(document1, document2)\n",
        "print(f\"Cosine Similarity: {similarity_score}\")"
      ],
      "metadata": {
        "colab": {
          "base_uri": "https://localhost:8080/"
        },
        "id": "j7__XetR4A2u",
        "outputId": "43f210d0-297a-4cb2-c425-f6dbf166518f"
      },
      "execution_count": 27,
      "outputs": [
        {
          "output_type": "stream",
          "name": "stdout",
          "text": [
            "Cosine Similarity: 0.4629100498862757\n"
          ]
        }
      ]
    },
    {
      "cell_type": "code",
      "source": [
        "import nltk\n",
        "from sklearn.feature_extraction.text import TfidfVectorizer\n",
        "from sklearn.metrics.pairwise import cosine_similarity"
      ],
      "metadata": {
        "id": "pAlVU6XS65FM"
      },
      "execution_count": 28,
      "outputs": []
    },
    {
      "cell_type": "code",
      "source": [
        "nltk.download('punkt')"
      ],
      "metadata": {
        "colab": {
          "base_uri": "https://localhost:8080/"
        },
        "id": "_Hg7E2C069G4",
        "outputId": "98781851-c7f7-45a7-fc76-b1c257490256"
      },
      "execution_count": 29,
      "outputs": [
        {
          "output_type": "stream",
          "name": "stderr",
          "text": [
            "[nltk_data] Downloading package punkt to /root/nltk_data...\n",
            "[nltk_data]   Package punkt is already up-to-date!\n"
          ]
        },
        {
          "output_type": "execute_result",
          "data": {
            "text/plain": [
              "True"
            ]
          },
          "metadata": {},
          "execution_count": 29
        }
      ]
    },
    {
      "cell_type": "code",
      "source": [
        "def calculate_cosine_similarity(doc1, doc2):\n",
        "    vectorizer = TfidfVectorizer()\n",
        "    matrix = vectorizer.fit_transform([doc1, doc2])\n",
        "    cosine_sim = cosine_similarity(matrix)\n",
        "    return cosine_sim[0, 1]"
      ],
      "metadata": {
        "id": "gfGx1igl7Jg4"
      },
      "execution_count": 30,
      "outputs": []
    },
    {
      "cell_type": "code",
      "source": [
        "similarity_score = calculate_cosine_similarity(document1, document2)\n",
        "print(f\"Cosine Similarity: {similarity_score}\")"
      ],
      "metadata": {
        "colab": {
          "base_uri": "https://localhost:8080/"
        },
        "id": "JOUJGhrY7Dj-",
        "outputId": "e18f8354-b212-4215-f6b8-05ca7ff56dfe"
      },
      "execution_count": 31,
      "outputs": [
        {
          "output_type": "stream",
          "name": "stdout",
          "text": [
            "Cosine Similarity: 0.3041257418754935\n"
          ]
        }
      ]
    }
  ]
}