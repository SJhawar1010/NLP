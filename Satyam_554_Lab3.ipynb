{
  "cells": [
    {
      "cell_type": "markdown",
      "metadata": {
        "id": "view-in-github",
        "colab_type": "text"
      },
      "source": [
        "<a href=\"https://colab.research.google.com/github/SJhawar1010/NLP/blob/main/Satyam_554_Lab3.ipynb\" target=\"_parent\"><img src=\"https://colab.research.google.com/assets/colab-badge.svg\" alt=\"Open In Colab\"/></a>"
      ]
    },
    {
      "cell_type": "code",
      "execution_count": 34,
      "metadata": {
        "id": "CbpiHEn0XVjr"
      },
      "outputs": [],
      "source": [
        "import nltk"
      ]
    },
    {
      "cell_type": "code",
      "execution_count": 35,
      "metadata": {
        "colab": {
          "base_uri": "https://localhost:8080/"
        },
        "id": "vwCyw33kYQ-c",
        "outputId": "3bf17de5-f184-4e87-a59d-6856f112ecde"
      },
      "outputs": [
        {
          "output_type": "stream",
          "name": "stderr",
          "text": [
            "[nltk_data] Downloading package punkt to /root/nltk_data...\n",
            "[nltk_data]   Package punkt is already up-to-date!\n"
          ]
        },
        {
          "output_type": "execute_result",
          "data": {
            "text/plain": [
              "True"
            ]
          },
          "metadata": {},
          "execution_count": 35
        }
      ],
      "source": [
        "nltk.download('punkt')"
      ]
    },
    {
      "cell_type": "code",
      "source": [
        "import numpy as np"
      ],
      "metadata": {
        "id": "JlApZkDwQUmg"
      },
      "execution_count": 36,
      "outputs": []
    },
    {
      "cell_type": "code",
      "execution_count": 37,
      "metadata": {
        "id": "76ufLUSGX6FS"
      },
      "outputs": [],
      "source": [
        "text = (\"🏏 তানি আৰু মাইৰি ক্ৰিকেট ক্ষেত্ৰত সহানুভূতিৰ বাবে প্ৰসিদ্ধ, মহেন্দ্ৰ সিং ধোনী, যিনি আফিচিয়েটলি কেপ্টেন কুল নামে প্ৰিয়াত ধৰা হয়। \" +\n",
        "\" সন 7 যুলাই 1981 ত জন্মিত, ধোনীৰ নেতৃত্বৰ শৈলী, যা কৌশলগুণ আৰু অমূল্য দৃঢ়তাৰ দৰে চিহ্নিত হৈছে, তাৰ ফলে ভাৰতৰ ক্ৰিকেট দলৰ সাফল্যত উন্নত হৈছে। ❤❤❤\" +\n",
        "\" প্ৰেসারৰ তাতৰিক অধীনত খেলা পঢ়াৰ অদ্ভুত ক্ষমতা সৈতে তাৰ খেলা পঢ়াৰ এবং তাতৰিক নির্ধাৰণ কৰাৰ ক্ষমতাৰ কাৰণে তিনি বিশ্ববৰ্তী অনুগ্ৰহৰ অনুভৱ কৰাৰ জন্য প্ৰশংসা পৰা। দশকৰ ব্যাপাৰত যোৱা এটি কেৰিৱাৰৰ দিশলৈ, ধোনী হৈছে এটি টেণিছিৰ আৰু সৰ্বোত্তম মানৰ প্ৰতীক।\" +\n",
        "\" 🌟 মুক্তকৰণৰ উৎসাৰ বা চৰণ হৈছে, অথবা চলছে সমৰৰ সৃষ্টি কৰাৰ সময়ত দল সোধাৰ কাৰণে, ধোনীৰ উপকৰণ ক্ৰিকেট ইতিহাসত অনুচ্ছেদ কৰা হৈছে। \" +\n",
        "\" তার নেতৃত্বৰ প্ৰভাৱও কেৰিৱাৰৰ সীমাৰ বাহিৰত পৰা একাধিক লোকৰ সৈতে মেলোৱাৰ অনুভৱ কৰা হৈছে। 🏆 ইংৰাজী আৰু ফোন নম্বৰৰ সৈতে পৰিপূৰ্ণ হৈছে এটি ইমেইলId। ক্ৰিকেট প্ৰেমী লোকজনৰ মধ্যে ধোনীৰ উপকৰণ আত্ম-গর্ব আৰু পূৰ্বাগ্ৰহ উত্কৃষ্ট কৰে। \" +\n",
        "\" ভাৰতৰ ক্ৰিকেট দললৈ তৰৰ অৰ্পণ কৰাৰ ফলত ধোনীৰ সৈতে সহজীৱনত অবিলিন্য। \" +\n",
        "\" 🇮🇳 #DhoniForever. পৰ্যাপ্ত মানৱজন বিশ্ববৰ্তীৰ সৈতে তানি সমৰ্থন কৰাৰ পৰা কোনো বন্ধন নহয়। ইয়াৰ ইমেইল ঠিক mynameisdhoni7@yahoo.com 🥳🥳🥳।\")"
      ]
    },
    {
      "cell_type": "code",
      "source": [
        "nltk_tokens = nltk.word_tokenize(text)\n",
        "print (nltk_tokens)"
      ],
      "metadata": {
        "colab": {
          "base_uri": "https://localhost:8080/"
        },
        "id": "QpwiwgWzPj7f",
        "outputId": "5930c1c4-4cd0-444a-fb53-e4845dfae753"
      },
      "execution_count": 38,
      "outputs": [
        {
          "output_type": "stream",
          "name": "stdout",
          "text": [
            "['🏏', 'তানি', 'আৰু', 'মাইৰি', 'ক্ৰিকেট', 'ক্ষেত্ৰত', 'সহানুভূতিৰ', 'বাবে', 'প্ৰসিদ্ধ', ',', 'মহেন্দ্ৰ', 'সিং', 'ধোনী', ',', 'যিনি', 'আফিচিয়েটলি', 'কেপ্টেন', 'কুল', 'নামে', 'প্ৰিয়াত', 'ধৰা', 'হয়।', 'সন', '7', 'যুলাই', '1981', 'ত', 'জন্মিত', ',', 'ধোনীৰ', 'নেতৃত্বৰ', 'শৈলী', ',', 'যা', 'কৌশলগুণ', 'আৰু', 'অমূল্য', 'দৃঢ়তাৰ', 'দৰে', 'চিহ্নিত', 'হৈছে', ',', 'তাৰ', 'ফলে', 'ভাৰতৰ', 'ক্ৰিকেট', 'দলৰ', 'সাফল্যত', 'উন্নত', 'হৈছে।', '❤❤❤', 'প্ৰেসারৰ', 'তাতৰিক', 'অধীনত', 'খেলা', 'পঢ়াৰ', 'অদ্ভুত', 'ক্ষমতা', 'সৈতে', 'তাৰ', 'খেলা', 'পঢ়াৰ', 'এবং', 'তাতৰিক', 'নির্ধাৰণ', 'কৰাৰ', 'ক্ষমতাৰ', 'কাৰণে', 'তিনি', 'বিশ্ববৰ্তী', 'অনুগ্ৰহৰ', 'অনুভৱ', 'কৰাৰ', 'জন্য', 'প্ৰশংসা', 'পৰা।', 'দশকৰ', 'ব্যাপাৰত', 'যোৱা', 'এটি', 'কেৰিৱাৰৰ', 'দিশলৈ', ',', 'ধোনী', 'হৈছে', 'এটি', 'টেণিছিৰ', 'আৰু', 'সৰ্বোত্তম', 'মানৰ', 'প্ৰতীক।', '🌟', 'মুক্তকৰণৰ', 'উৎসাৰ', 'বা', 'চৰণ', 'হৈছে', ',', 'অথবা', 'চলছে', 'সমৰৰ', 'সৃষ্টি', 'কৰাৰ', 'সময়ত', 'দল', 'সোধাৰ', 'কাৰণে', ',', 'ধোনীৰ', 'উপকৰণ', 'ক্ৰিকেট', 'ইতিহাসত', 'অনুচ্ছেদ', 'কৰা', 'হৈছে।', 'তার', 'নেতৃত্বৰ', 'প্ৰভাৱও', 'কেৰিৱাৰৰ', 'সীমাৰ', 'বাহিৰত', 'পৰা', 'একাধিক', 'লোকৰ', 'সৈতে', 'মেলোৱাৰ', 'অনুভৱ', 'কৰা', 'হৈছে।', '🏆', 'ইংৰাজী', 'আৰু', 'ফোন', 'নম্বৰৰ', 'সৈতে', 'পৰিপূৰ্ণ', 'হৈছে', 'এটি', 'ইমেইলId।', 'ক্ৰিকেট', 'প্ৰেমী', 'লোকজনৰ', 'মধ্যে', 'ধোনীৰ', 'উপকৰণ', 'আত্ম-গর্ব', 'আৰু', 'পূৰ্বাগ্ৰহ', 'উত্কৃষ্ট', 'কৰে।', 'ভাৰতৰ', 'ক্ৰিকেট', 'দললৈ', 'তৰৰ', 'অৰ্পণ', 'কৰাৰ', 'ফলত', 'ধোনীৰ', 'সৈতে', 'সহজীৱনত', 'অবিলিন্য।', '🇮🇳', '#', 'DhoniForever', '.', 'পৰ্যাপ্ত', 'মানৱজন', 'বিশ্ববৰ্তীৰ', 'সৈতে', 'তানি', 'সমৰ্থন', 'কৰাৰ', 'পৰা', 'কোনো', 'বন্ধন', 'নহয়।', 'ইয়াৰ', 'ইমেইল', 'ঠিক', 'mynameisdhoni7', '@', 'yahoo.com', '🥳🥳🥳।']\n"
          ]
        }
      ]
    },
    {
      "cell_type": "markdown",
      "metadata": {
        "id": "N-_XX_-QGTGZ"
      },
      "source": [
        "Word tokenization is the process of splitting a text into individual words.\n",
        "\n",
        "Word tokenization can be straightforward for languages with spaces between words but can be more complex for languages like Chinese or Thai that don't use spaces between words."
      ]
    },
    {
      "cell_type": "code",
      "execution_count": 39,
      "metadata": {
        "colab": {
          "base_uri": "https://localhost:8080/"
        },
        "id": "EF4o1_N5YLzu",
        "outputId": "2e611e23-ca56-42c4-d216-517e8b1da1e3"
      },
      "outputs": [
        {
          "output_type": "stream",
          "name": "stdout",
          "text": [
            "['🏏 তানি আৰু মাইৰি ক্ৰিকেট ক্ষেত্ৰত সহানুভূতিৰ বাবে প্ৰসিদ্ধ, মহেন্দ্ৰ সিং ধোনী, যিনি আফিচিয়েটলি কেপ্টেন কুল নামে প্ৰিয়াত ধৰা হয়।  সন 7 যুলাই 1981 ত জন্মিত, ধোনীৰ নেতৃত্বৰ শৈলী, যা কৌশলগুণ আৰু অমূল্য দৃঢ়তাৰ দৰে চিহ্নিত হৈছে, তাৰ ফলে ভাৰতৰ ক্ৰিকেট দলৰ সাফল্যত উন্নত হৈছে। ❤❤❤ প্ৰেসারৰ তাতৰিক অধীনত খেলা পঢ়াৰ অদ্ভুত ক্ষমতা সৈতে তাৰ খেলা পঢ়াৰ এবং তাতৰিক নির্ধাৰণ কৰাৰ ক্ষমতাৰ কাৰণে তিনি বিশ্ববৰ্তী অনুগ্ৰহৰ অনুভৱ কৰাৰ জন্য প্ৰশংসা পৰা। দশকৰ ব্যাপাৰত যোৱা এটি কেৰিৱাৰৰ দিশলৈ, ধোনী হৈছে এটি টেণিছিৰ আৰু সৰ্বোত্তম মানৰ প্ৰতীক। 🌟 মুক্তকৰণৰ উৎসাৰ বা চৰণ হৈছে, অথবা চলছে সমৰৰ সৃষ্টি কৰাৰ সময়ত দল সোধাৰ কাৰণে, ধোনীৰ উপকৰণ ক্ৰিকেট ইতিহাসত অনুচ্ছেদ কৰা হৈছে।  তার নেতৃত্বৰ প্ৰভাৱও কেৰিৱাৰৰ সীমাৰ বাহিৰত পৰা একাধিক লোকৰ সৈতে মেলোৱাৰ অনুভৱ কৰা হৈছে। 🏆 ইংৰাজী আৰু ফোন নম্বৰৰ সৈতে পৰিপূৰ্ণ হৈছে এটি ইমেইলId। ক্ৰিকেট প্ৰেমী লোকজনৰ মধ্যে ধোনীৰ উপকৰণ আত্ম-গর্ব আৰু পূৰ্বাগ্ৰহ উত্কৃষ্ট কৰে।  ভাৰতৰ ক্ৰিকেট দললৈ তৰৰ অৰ্পণ কৰাৰ ফলত ধোনীৰ সৈতে সহজীৱনত অবিলিন্য।  🇮🇳 #DhoniForever.', 'পৰ্যাপ্ত মানৱজন বিশ্ববৰ্তীৰ সৈতে তানি সমৰ্থন কৰাৰ পৰা কোনো বন্ধন নহয়। ইয়াৰ ইমেইল ঠিক mynameisdhoni7@yahoo.com 🥳🥳🥳।']\n"
          ]
        }
      ],
      "source": [
        "nltk_tokens = nltk.sent_tokenize(text)\n",
        "print (nltk_tokens)"
      ]
    },
    {
      "cell_type": "markdown",
      "metadata": {
        "id": "hPLvrmaEGt39"
      },
      "source": [
        "Sentence tokenization involves splitting a text into individual sentences.\n",
        "Essential for tasks like text summarization, machine translation, and document clustering."
      ]
    },
    {
      "cell_type": "code",
      "execution_count": 40,
      "metadata": {
        "id": "ZzRHYYeAY4cQ"
      },
      "outputs": [],
      "source": [
        "from nltk.tokenize import WordPunctTokenizer"
      ]
    },
    {
      "cell_type": "code",
      "execution_count": 41,
      "metadata": {
        "colab": {
          "base_uri": "https://localhost:8080/"
        },
        "id": "-VHgKkdVYoQn",
        "outputId": "38ee449e-1c97-4933-983b-7b1e17a586ce"
      },
      "outputs": [
        {
          "output_type": "stream",
          "name": "stdout",
          "text": [
            "\n",
            "Split all punctuation into separate tokens:\n",
            "['🏏', 'ত', 'া', 'ন', 'ি', 'আৰ', 'ু', 'ম', 'া', 'ইৰ', 'ি', 'ক', '্', 'ৰ', 'ি', 'ক', 'ে', 'ট', 'ক', '্', 'ষ', 'ে', 'ত', '্', 'ৰত', 'সহ', 'া', 'ন', 'ু', 'ভ', 'ূ', 'ত', 'ি', 'ৰ', 'ব', 'া', 'ব', 'ে', 'প', '্', 'ৰস', 'ি', 'দ', '্', 'ধ', ',', 'মহ', 'ে', 'ন', '্', 'দ', '্', 'ৰ', 'স', 'িং', 'ধ', 'ো', 'ন', 'ী,', 'য', 'ি', 'ন', 'ি', 'আফ', 'ি', 'চ', 'ি', 'য়', 'ে', 'টল', 'ি', 'ক', 'ে', 'প', '্', 'ট', 'ে', 'ন', 'ক', 'ু', 'ল', 'ন', 'া', 'ম', 'ে', 'প', '্', 'ৰ', 'ি', 'য', '়া', 'ত', 'ধৰ', 'া', 'হয', '়।', 'সন', '7', 'য', 'ু', 'ল', 'া', 'ই', '1981', 'ত', 'জন', '্', 'ম', 'ি', 'ত', ',', 'ধ', 'ো', 'ন', 'ী', 'ৰ', 'ন', 'ে', 'ত', 'ৃ', 'ত', '্', 'বৰ', 'শ', 'ৈ', 'ল', 'ী,', 'য', 'া', 'ক', 'ৌ', 'শলগ', 'ু', 'ণ', 'আৰ', 'ু', 'অম', 'ূ', 'ল', '্', 'য', 'দ', 'ৃ', 'ঢ়ত', 'া', 'ৰ', 'দৰ', 'ে', 'চ', 'ি', 'হ', '্', 'ন', 'ি', 'ত', 'হ', 'ৈ', 'ছ', 'ে,', 'ত', 'া', 'ৰ', 'ফল', 'ে', 'ভ', 'া', 'ৰতৰ', 'ক', '্', 'ৰ', 'ি', 'ক', 'ে', 'ট', 'দলৰ', 'স', 'া', 'ফল', '্', 'যত', 'উন', '্', 'নত', 'হ', 'ৈ', 'ছ', 'ে।', '❤❤❤', 'প', '্', 'ৰ', 'ে', 'স', 'া', 'রৰ', 'ত', 'া', 'তৰ', 'ি', 'ক', 'অধ', 'ী', 'নত', 'খ', 'ে', 'ল', 'া', 'পঢ', '়া', 'ৰ', 'অদ', '্', 'ভ', 'ু', 'ত', 'ক', '্', 'ষমত', 'া', 'স', 'ৈ', 'ত', 'ে', 'ত', 'া', 'ৰ', 'খ', 'ে', 'ল', 'া', 'পঢ', '়া', 'ৰ', 'এব', 'ং', 'ত', 'া', 'তৰ', 'ি', 'ক', 'ন', 'ি', 'র', '্', 'ধ', 'া', 'ৰণ', 'কৰ', 'া', 'ৰ', 'ক', '্', 'ষমত', 'া', 'ৰ', 'ক', 'া', 'ৰণ', 'ে', 'ত', 'ি', 'ন', 'ি', 'ব', 'ি', 'শ', '্', 'ববৰ', '্', 'ত', 'ী', 'অন', 'ু', 'গ', '্', 'ৰহৰ', 'অন', 'ু', 'ভৱ', 'কৰ', 'া', 'ৰ', 'জন', '্', 'য', 'প', '্', 'ৰশ', 'ং', 'স', 'া', 'পৰ', 'া।', 'দশকৰ', 'ব', '্', 'য', 'া', 'প', 'া', 'ৰত', 'য', 'ো', 'ৱ', 'া', 'এট', 'ি', 'ক', 'ে', 'ৰ', 'ি', 'ৱ', 'া', 'ৰৰ', 'দ', 'ি', 'শল', 'ৈ,', 'ধ', 'ো', 'ন', 'ী', 'হ', 'ৈ', 'ছ', 'ে', 'এট', 'ি', 'ট', 'ে', 'ণ', 'ি', 'ছ', 'ি', 'ৰ', 'আৰ', 'ু', 'সৰ', '্', 'ব', 'ো', 'ত', '্', 'তম', 'ম', 'া', 'নৰ', 'প', '্', 'ৰত', 'ী', 'ক', '।', '🌟', 'ম', 'ু', 'ক', '্', 'তকৰণৰ', 'উৎস', 'া', 'ৰ', 'ব', 'া', 'চৰণ', 'হ', 'ৈ', 'ছ', 'ে,', 'অথব', 'া', 'চলছ', 'ে', 'সমৰৰ', 'স', 'ৃ', 'ষ', '্', 'ট', 'ি', 'কৰ', 'া', 'ৰ', 'সময়ত', 'দল', 'স', 'ো', 'ধ', 'া', 'ৰ', 'ক', 'া', 'ৰণ', 'ে,', 'ধ', 'ো', 'ন', 'ী', 'ৰ', 'উপকৰণ', 'ক', '্', 'ৰ', 'ি', 'ক', 'ে', 'ট', 'ইত', 'ি', 'হ', 'া', 'সত', 'অন', 'ু', 'চ', '্', 'ছ', 'ে', 'দ', 'কৰ', 'া', 'হ', 'ৈ', 'ছ', 'ে।', 'ত', 'া', 'র', 'ন', 'ে', 'ত', 'ৃ', 'ত', '্', 'বৰ', 'প', '্', 'ৰভ', 'া', 'ৱও', 'ক', 'ে', 'ৰ', 'ি', 'ৱ', 'া', 'ৰৰ', 'স', 'ী', 'ম', 'া', 'ৰ', 'ব', 'া', 'হ', 'ি', 'ৰত', 'পৰ', 'া', 'এক', 'া', 'ধ', 'ি', 'ক', 'ল', 'ো', 'কৰ', 'স', 'ৈ', 'ত', 'ে', 'ম', 'ে', 'ল', 'ো', 'ৱ', 'া', 'ৰ', 'অন', 'ু', 'ভৱ', 'কৰ', 'া', 'হ', 'ৈ', 'ছ', 'ে।', '🏆', 'ই', 'ং', 'ৰ', 'া', 'জ', 'ী', 'আৰ', 'ু', 'ফ', 'ো', 'ন', 'নম', '্', 'বৰৰ', 'স', 'ৈ', 'ত', 'ে', 'পৰ', 'ি', 'প', 'ূ', 'ৰ', '্', 'ণ', 'হ', 'ৈ', 'ছ', 'ে', 'এট', 'ি', 'ইম', 'ে', 'ইলId', '।', 'ক', '্', 'ৰ', 'ি', 'ক', 'ে', 'ট', 'প', '্', 'ৰ', 'ে', 'ম', 'ী', 'ল', 'ো', 'কজনৰ', 'মধ', '্', 'য', 'ে', 'ধ', 'ো', 'ন', 'ী', 'ৰ', 'উপকৰণ', 'আত', '্', 'ম', '-', 'গর', '্', 'ব', 'আৰ', 'ু', 'প', 'ূ', 'ৰ', '্', 'ব', 'া', 'গ', '্', 'ৰহ', 'উত', '্', 'ক', 'ৃ', 'ষ', '্', 'ট', 'কৰ', 'ে।', 'ভ', 'া', 'ৰতৰ', 'ক', '্', 'ৰ', 'ি', 'ক', 'ে', 'ট', 'দলল', 'ৈ', 'তৰৰ', 'অৰ', '্', 'পণ', 'কৰ', 'া', 'ৰ', 'ফলত', 'ধ', 'ো', 'ন', 'ী', 'ৰ', 'স', 'ৈ', 'ত', 'ে', 'সহজ', 'ী', 'ৱনত', 'অব', 'ি', 'ল', 'ি', 'ন', '্', 'য', '।', '🇮🇳', '#', 'DhoniForever', '.', 'পৰ', '্', 'য', 'া', 'প', '্', 'ত', 'ম', 'া', 'নৱজন', 'ব', 'ি', 'শ', '্', 'ববৰ', '্', 'ত', 'ী', 'ৰ', 'স', 'ৈ', 'ত', 'ে', 'ত', 'া', 'ন', 'ি', 'সমৰ', '্', 'থন', 'কৰ', 'া', 'ৰ', 'পৰ', 'া', 'ক', 'ো', 'ন', 'ো', 'বন', '্', 'ধন', 'নহয়', '।', 'ইয', '়া', 'ৰ', 'ইম', 'ে', 'ইল', 'ঠ', 'ি', 'ক', 'mynameisdhoni7', '@', 'yahoo', '.', 'com', '🥳🥳🥳।']\n"
          ]
        }
      ],
      "source": [
        "result = WordPunctTokenizer().tokenize(text)\n",
        "print(\"\\nSplit all punctuation into separate tokens:\")\n",
        "print(result)"
      ]
    },
    {
      "cell_type": "markdown",
      "metadata": {
        "id": "Y-UfxISDG6ig"
      },
      "source": [
        "Punctuation-based Tokenizer splits text based on punctuation marks such as periods, commas, and semicolons.\n",
        "It is suitable for simple text processing tasks where accuracy is not critical."
      ]
    },
    {
      "cell_type": "code",
      "execution_count": 42,
      "metadata": {
        "id": "Ofhwddj-Y7x6"
      },
      "outputs": [],
      "source": [
        "from nltk.tokenize.treebank import TreebankWordTokenizer, TreebankWordDetokenizer"
      ]
    },
    {
      "cell_type": "code",
      "execution_count": 43,
      "metadata": {
        "colab": {
          "base_uri": "https://localhost:8080/",
          "height": 88
        },
        "id": "TnRa7sbfZKvf",
        "outputId": "06165075-a36c-41df-954d-df6dc10f5bd8"
      },
      "outputs": [
        {
          "output_type": "execute_result",
          "data": {
            "text/plain": [
              "'🏏 তানি আৰু মাইৰি ক্ৰিকেট ক্ষেত্ৰত সহানুভূতিৰ বাবে প্ৰসিদ্ধ, মহেন্দ্ৰ সিং ধোনী, যিনি আফিচিয়েটলি কেপ্টেন কুল নামে প্ৰিয়াত ধৰা হয়। সন 7 যুলাই 1981 ত জন্মিত, ধোনীৰ নেতৃত্বৰ শৈলী, যা কৌশলগুণ আৰু অমূল্য দৃঢ়তাৰ দৰে চিহ্নিত হৈছে, তাৰ ফলে ভাৰতৰ ক্ৰিকেট দলৰ সাফল্যত উন্নত হৈছে। ❤❤❤ প্ৰেসারৰ তাতৰিক অধীনত খেলা পঢ়াৰ অদ্ভুত ক্ষমতা সৈতে তাৰ খেলা পঢ়াৰ এবং তাতৰিক নির্ধাৰণ কৰাৰ ক্ষমতাৰ কাৰণে তিনি বিশ্ববৰ্তী অনুগ্ৰহৰ অনুভৱ কৰাৰ জন্য প্ৰশংসা পৰা। দশকৰ ব্যাপাৰত যোৱা এটি কেৰিৱাৰৰ দিশলৈ, ধোনী হৈছে এটি টেণিছিৰ আৰু সৰ্বোত্তম মানৰ প্ৰতীক। 🌟 মুক্তকৰণৰ উৎসাৰ বা চৰণ হৈছে, অথবা চলছে সমৰৰ সৃষ্টি কৰাৰ সময়ত দল সোধাৰ কাৰণে, ধোনীৰ উপকৰণ ক্ৰিকেট ইতিহাসত অনুচ্ছেদ কৰা হৈছে। তার নেতৃত্বৰ প্ৰভাৱও কেৰিৱাৰৰ সীমাৰ বাহিৰত পৰা একাধিক লোকৰ সৈতে মেলোৱাৰ অনুভৱ কৰা হৈছে। 🏆 ইংৰাজী আৰু ফোন নম্বৰৰ সৈতে পৰিপূৰ্ণ হৈছে এটি ইমেইলId। ক্ৰিকেট প্ৰেমী লোকজনৰ মধ্যে ধোনীৰ উপকৰণ আত্ম-গর্ব আৰু পূৰ্বাগ্ৰহ উত্কৃষ্ট কৰে। ভাৰতৰ ক্ৰিকেট দললৈ তৰৰ অৰ্পণ কৰাৰ ফলত ধোনীৰ সৈতে সহজীৱনত অবিলিন্য। 🇮🇳 #DhoniForever. পৰ্যাপ্ত মানৱজন বিশ্ববৰ্তীৰ সৈতে তানি সমৰ্থন কৰাৰ পৰা কোনো বন্ধন নহয়। ইয়াৰ ইমেইল ঠিক mynameisdhoni7 @ yahoo.com 🥳🥳🥳।'"
            ],
            "application/vnd.google.colaboratory.intrinsic+json": {
              "type": "string"
            }
          },
          "metadata": {},
          "execution_count": 43
        }
      ],
      "source": [
        "d = TreebankWordDetokenizer()\n",
        "t = TreebankWordTokenizer()\n",
        "toks = t.tokenize(text)\n",
        "d.detokenize(toks)"
      ]
    },
    {
      "cell_type": "markdown",
      "metadata": {
        "id": "VLLIUWDzHreb"
      },
      "source": [
        "The Treebank Word Tokenizer is based on the Penn Treebank corpus and uses regular expressions to tokenize text according to conventions used in the corpus.\n",
        "Beneficial for tasks requiring fine-grained tokenization, such as syntactic parsing and part-of-speech tagging."
      ]
    },
    {
      "cell_type": "code",
      "execution_count": 44,
      "metadata": {
        "id": "e2aL8Vs3ZiM_"
      },
      "outputs": [],
      "source": [
        "from nltk.tokenize import TweetTokenizer"
      ]
    },
    {
      "cell_type": "code",
      "execution_count": 45,
      "metadata": {
        "colab": {
          "base_uri": "https://localhost:8080/"
        },
        "id": "i-lsq-iBZ3DO",
        "outputId": "2229d761-d93f-4dd8-f19f-7559670b37ea"
      },
      "outputs": [
        {
          "output_type": "stream",
          "name": "stdout",
          "text": [
            "['🏏', 'তানি', 'আৰু', 'মাইৰি', 'ক্ৰিকেট', 'ক্ষেত্ৰত', 'সহানুভূতিৰ', 'বাবে', 'প্ৰসিদ্ধ', ',', 'মহেন্দ্ৰ', 'সিং', 'ধোনী', ',', 'যিনি', 'আফিচিয়েটলি', 'কেপ্টেন', 'কুল', 'নামে', 'প্ৰিয়াত', 'ধৰা', 'হয়', '।', 'সন', '7', 'যুলাই', '1981', 'ত', 'জন্মিত', ',', 'ধোনীৰ', 'নেতৃত্বৰ', 'শৈলী', ',', 'যা', 'কৌশলগুণ', 'আৰু', 'অমূল্য', 'দৃঢ়তাৰ', 'দৰে', 'চিহ্নিত', 'হৈছে', ',', 'তাৰ', 'ফলে', 'ভাৰতৰ', 'ক্ৰিকেট', 'দলৰ', 'সাফল্যত', 'উন্নত', 'হৈছে', '।', '❤', '❤', '❤', 'প্ৰেসারৰ', 'তাতৰিক', 'অধীনত', 'খেলা', 'পঢ়াৰ', 'অদ্ভুত', 'ক্ষমতা', 'সৈতে', 'তাৰ', 'খেলা', 'পঢ়াৰ', 'এবং', 'তাতৰিক', 'নির্ধাৰণ', 'কৰাৰ', 'ক্ষমতাৰ', 'কাৰণে', 'তিনি', 'বিশ্ববৰ্তী', 'অনুগ্ৰহৰ', 'অনুভৱ', 'কৰাৰ', 'জন্য', 'প্ৰশংসা', 'পৰা', '।', 'দশকৰ', 'ব্যাপাৰত', 'যোৱা', 'এটি', 'কেৰিৱাৰৰ', 'দিশলৈ', ',', 'ধোনী', 'হৈছে', 'এটি', 'টেণিছিৰ', 'আৰু', 'সৰ্বোত্তম', 'মানৰ', 'প্ৰতীক', '।', '🌟', 'মুক্তকৰণৰ', 'উৎসাৰ', 'বা', 'চৰণ', 'হৈছে', ',', 'অথবা', 'চলছে', 'সমৰৰ', 'সৃষ্টি', 'কৰাৰ', 'সময়ত', 'দল', 'সোধাৰ', 'কাৰণে', ',', 'ধোনীৰ', 'উপকৰণ', 'ক্ৰিকেট', 'ইতিহাসত', 'অনুচ্ছেদ', 'কৰা', 'হৈছে', '।', 'তার', 'নেতৃত্বৰ', 'প্ৰভাৱও', 'কেৰিৱাৰৰ', 'সীমাৰ', 'বাহিৰত', 'পৰা', 'একাধিক', 'লোকৰ', 'সৈতে', 'মেলোৱাৰ', 'অনুভৱ', 'কৰা', 'হৈছে', '।', '🏆', 'ইংৰাজী', 'আৰু', 'ফোন', 'নম্বৰৰ', 'সৈতে', 'পৰিপূৰ্ণ', 'হৈছে', 'এটি', 'ইমেইলId', '।', 'ক্ৰিকেট', 'প্ৰেমী', 'লোকজনৰ', 'মধ্যে', 'ধোনীৰ', 'উপকৰণ', 'আত্ম-গর্ব', 'আৰু', 'পূৰ্বাগ্ৰহ', 'উত্কৃষ্ট', 'কৰে', '।', 'ভাৰতৰ', 'ক্ৰিকেট', 'দললৈ', 'তৰৰ', 'অৰ্পণ', 'কৰাৰ', 'ফলত', 'ধোনীৰ', 'সৈতে', 'সহজীৱনত', 'অবিলিন্য', '।', '🇮🇳', '#DhoniForever', '.', 'পৰ্যাপ্ত', 'মানৱজন', 'বিশ্ববৰ্তীৰ', 'সৈতে', 'তানি', 'সমৰ্থন', 'কৰাৰ', 'পৰা', 'কোনো', 'বন্ধন', 'নহয়', '।', 'ইয়াৰ', 'ইমেইল', 'ঠিক', 'mynameisdhoni7@yahoo.com', '🥳', '🥳', '🥳', '।']\n"
          ]
        }
      ],
      "source": [
        "tk = TweetTokenizer()\n",
        "y = tk.tokenize(text)\n",
        "print(y)"
      ]
    },
    {
      "cell_type": "markdown",
      "metadata": {
        "id": "BsWAeUhIIQcu"
      },
      "source": [
        "Tweet Tokenizer is designed specifically for tokenizing tweets, which often contain unique characteristics such as hashtags, mentions, and emojis.\n",
        "Useful for sentiment analysis, trend analysis, and social media monitoring."
      ]
    },
    {
      "cell_type": "code",
      "execution_count": 46,
      "metadata": {
        "id": "rQ8qGAwFaBpZ"
      },
      "outputs": [],
      "source": [
        "from textblob import TextBlob"
      ]
    },
    {
      "cell_type": "code",
      "execution_count": 47,
      "metadata": {
        "colab": {
          "base_uri": "https://localhost:8080/"
        },
        "id": "nd8ib06-TjbA",
        "outputId": "3388f87d-7768-4f3b-cef1-64fcde3c4a96"
      },
      "outputs": [
        {
          "output_type": "stream",
          "name": "stdout",
          "text": [
            " Word Tokenize :\n",
            " ['🏏', 'তানি', 'আৰু', 'মাইৰি', 'ক্ৰিকেট', 'ক্ষেত্ৰত', 'সহানুভূতিৰ', 'বাবে', 'প্ৰসিদ্ধ', 'মহেন্দ্ৰ', 'সিং', 'ধোনী', 'যিনি', 'আফিচিয়েটলি', 'কেপ্টেন', 'কুল', 'নামে', 'প্ৰিয়াত', 'ধৰা', 'হয়।', 'সন', '7', 'যুলাই', '1981', 'ত', 'জন্মিত', 'ধোনীৰ', 'নেতৃত্বৰ', 'শৈলী', 'যা', 'কৌশলগুণ', 'আৰু', 'অমূল্য', 'দৃঢ়তাৰ', 'দৰে', 'চিহ্নিত', 'হৈছে', 'তাৰ', 'ফলে', 'ভাৰতৰ', 'ক্ৰিকেট', 'দলৰ', 'সাফল্যত', 'উন্নত', 'হৈছে।', '❤❤❤', 'প্ৰেসারৰ', 'তাতৰিক', 'অধীনত', 'খেলা', 'পঢ়াৰ', 'অদ্ভুত', 'ক্ষমতা', 'সৈতে', 'তাৰ', 'খেলা', 'পঢ়াৰ', 'এবং', 'তাতৰিক', 'নির্ধাৰণ', 'কৰাৰ', 'ক্ষমতাৰ', 'কাৰণে', 'তিনি', 'বিশ্ববৰ্তী', 'অনুগ্ৰহৰ', 'অনুভৱ', 'কৰাৰ', 'জন্য', 'প্ৰশংসা', 'পৰা।', 'দশকৰ', 'ব্যাপাৰত', 'যোৱা', 'এটি', 'কেৰিৱাৰৰ', 'দিশলৈ', 'ধোনী', 'হৈছে', 'এটি', 'টেণিছিৰ', 'আৰু', 'সৰ্বোত্তম', 'মানৰ', 'প্ৰতীক।', '🌟', 'মুক্তকৰণৰ', 'উৎসাৰ', 'বা', 'চৰণ', 'হৈছে', 'অথবা', 'চলছে', 'সমৰৰ', 'সৃষ্টি', 'কৰাৰ', 'সময়ত', 'দল', 'সোধাৰ', 'কাৰণে', 'ধোনীৰ', 'উপকৰণ', 'ক্ৰিকেট', 'ইতিহাসত', 'অনুচ্ছেদ', 'কৰা', 'হৈছে।', 'তার', 'নেতৃত্বৰ', 'প্ৰভাৱও', 'কেৰিৱাৰৰ', 'সীমাৰ', 'বাহিৰত', 'পৰা', 'একাধিক', 'লোকৰ', 'সৈতে', 'মেলোৱাৰ', 'অনুভৱ', 'কৰা', 'হৈছে।', '🏆', 'ইংৰাজী', 'আৰু', 'ফোন', 'নম্বৰৰ', 'সৈতে', 'পৰিপূৰ্ণ', 'হৈছে', 'এটি', 'ইমেইলId।', 'ক্ৰিকেট', 'প্ৰেমী', 'লোকজনৰ', 'মধ্যে', 'ধোনীৰ', 'উপকৰণ', 'আত্ম-গর্ব', 'আৰু', 'পূৰ্বাগ্ৰহ', 'উত্কৃষ্ট', 'কৰে।', 'ভাৰতৰ', 'ক্ৰিকেট', 'দললৈ', 'তৰৰ', 'অৰ্পণ', 'কৰাৰ', 'ফলত', 'ধোনীৰ', 'সৈতে', 'সহজীৱনত', 'অবিলিন্য।', '🇮🇳', 'DhoniForever', 'পৰ্যাপ্ত', 'মানৱজন', 'বিশ্ববৰ্তীৰ', 'সৈতে', 'তানি', 'সমৰ্থন', 'কৰাৰ', 'পৰা', 'কোনো', 'বন্ধন', 'নহয়।', 'ইয়াৰ', 'ইমেইল', 'ঠিক', 'mynameisdhoni7', 'yahoo.com', '🥳🥳🥳।']\n",
            "\n",
            " Sentence Tokenize :\n",
            " [Sentence(\"🏏 তানি আৰু মাইৰি ক্ৰিকেট ক্ষেত্ৰত সহানুভূতিৰ বাবে প্ৰসিদ্ধ, মহেন্দ্ৰ সিং ধোনী, যিনি আফিচিয়েটলি কেপ্টেন কুল নামে প্ৰিয়াত ধৰা হয়।  সন 7 যুলাই 1981 ত জন্মিত, ধোনীৰ নেতৃত্বৰ শৈলী, যা কৌশলগুণ আৰু অমূল্য দৃঢ়তাৰ দৰে চিহ্নিত হৈছে, তাৰ ফলে ভাৰতৰ ক্ৰিকেট দলৰ সাফল্যত উন্নত হৈছে। ❤❤❤ প্ৰেসারৰ তাতৰিক অধীনত খেলা পঢ়াৰ অদ্ভুত ক্ষমতা সৈতে তাৰ খেলা পঢ়াৰ এবং তাতৰিক নির্ধাৰণ কৰাৰ ক্ষমতাৰ কাৰণে তিনি বিশ্ববৰ্তী অনুগ্ৰহৰ অনুভৱ কৰাৰ জন্য প্ৰশংসা পৰা। দশকৰ ব্যাপাৰত যোৱা এটি কেৰিৱাৰৰ দিশলৈ, ধোনী হৈছে এটি টেণিছিৰ আৰু সৰ্বোত্তম মানৰ প্ৰতীক। 🌟 মুক্তকৰণৰ উৎসাৰ বা চৰণ হৈছে, অথবা চলছে সমৰৰ সৃষ্টি কৰাৰ সময়ত দল সোধাৰ কাৰণে, ধোনীৰ উপকৰণ ক্ৰিকেট ইতিহাসত অনুচ্ছেদ কৰা হৈছে।  তার নেতৃত্বৰ প্ৰভাৱও কেৰিৱাৰৰ সীমাৰ বাহিৰত পৰা একাধিক লোকৰ সৈতে মেলোৱাৰ অনুভৱ কৰা হৈছে। 🏆 ইংৰাজী আৰু ফোন নম্বৰৰ সৈতে পৰিপূৰ্ণ হৈছে এটি ইমেইলId। ক্ৰিকেট প্ৰেমী লোকজনৰ মধ্যে ধোনীৰ উপকৰণ আত্ম-গর্ব আৰু পূৰ্বাগ্ৰহ উত্কৃষ্ট কৰে।  ভাৰতৰ ক্ৰিকেট দললৈ তৰৰ অৰ্পণ কৰাৰ ফলত ধোনীৰ সৈতে সহজীৱনত অবিলিন্য।  🇮🇳 #DhoniForever.\"), Sentence(\"পৰ্যাপ্ত মানৱজন বিশ্ববৰ্তীৰ সৈতে তানি সমৰ্থন কৰাৰ পৰা কোনো বন্ধন নহয়। ইয়াৰ ইমেইল ঠিক mynameisdhoni7@yahoo.com 🥳🥳🥳।\")]\n"
          ]
        }
      ],
      "source": [
        "blob_object = TextBlob(text)\n",
        "print(\" Word Tokenize :\\n\", blob_object.words)\n",
        "print(\"\\n Sentence Tokenize :\\n\", blob_object.sentences)"
      ]
    },
    {
      "cell_type": "markdown",
      "metadata": {
        "id": "7YwJ8diZJbAy"
      },
      "source": [
        "TextBlob library tokenizer splits text into wordsusing the Word class's tokenization method.\n",
        "Suitable for rapid prototyping, educational purposes, and simple NLP tasks."
      ]
    },
    {
      "cell_type": "code",
      "execution_count": 48,
      "metadata": {
        "id": "ffINFofATwEU"
      },
      "outputs": [],
      "source": [
        "import spacy"
      ]
    },
    {
      "cell_type": "code",
      "execution_count": 49,
      "metadata": {
        "colab": {
          "base_uri": "https://localhost:8080/"
        },
        "id": "8AEjiowbT37U",
        "outputId": "63b53c33-62b2-4c0b-9647-d725c532be5f"
      },
      "outputs": [
        {
          "output_type": "stream",
          "name": "stdout",
          "text": [
            "🏏\n",
            "তানি\n",
            "আৰু\n",
            "মাইৰি\n",
            "ক্ৰিকেট\n",
            "ক্ষেত্ৰত\n",
            "সহানুভূতিৰ\n",
            "বাবে\n",
            "প্ৰসিদ্ধ\n",
            ",\n",
            "মহেন্দ্ৰ\n",
            "সিং\n",
            "ধোনী\n",
            ",\n",
            "যিনি\n",
            "আফিচিয়েটলি\n",
            "কেপ্টেন\n",
            "কুল\n",
            "নামে\n",
            "প্ৰিয়াত\n",
            "ধৰা\n",
            "হয়\n",
            "।\n",
            " \n",
            "সন\n",
            "7\n",
            "যুলাই\n",
            "1981\n",
            "ত\n",
            "জন্মিত\n",
            ",\n",
            "ধোনীৰ\n",
            "নেতৃত্বৰ\n",
            "শৈলী\n",
            ",\n",
            "যা\n",
            "কৌশলগুণ\n",
            "আৰু\n",
            "অমূল্য\n",
            "দৃঢ়তাৰ\n",
            "দৰে\n",
            "চিহ্নিত\n",
            "হৈছে\n",
            ",\n",
            "তাৰ\n",
            "ফলে\n",
            "ভাৰতৰ\n",
            "ক্ৰিকেট\n",
            "দলৰ\n",
            "সাফল্যত\n",
            "উন্নত\n",
            "হৈছে\n",
            "।\n",
            "❤\n",
            "❤\n",
            "❤\n",
            "প্ৰেসারৰ\n",
            "তাতৰিক\n",
            "অধীনত\n",
            "খেলা\n",
            "পঢ়াৰ\n",
            "অদ্ভুত\n",
            "ক্ষমতা\n",
            "সৈতে\n",
            "তাৰ\n",
            "খেলা\n",
            "পঢ়াৰ\n",
            "এবং\n",
            "তাতৰিক\n",
            "নির্ধাৰণ\n",
            "কৰাৰ\n",
            "ক্ষমতাৰ\n",
            "কাৰণে\n",
            "তিনি\n",
            "বিশ্ববৰ্তী\n",
            "অনুগ্ৰহৰ\n",
            "অনুভৱ\n",
            "কৰাৰ\n",
            "জন্য\n",
            "প্ৰশংসা\n",
            "পৰা\n",
            "।\n",
            "দশকৰ\n",
            "ব্যাপাৰত\n",
            "যোৱা\n",
            "এটি\n",
            "কেৰিৱাৰৰ\n",
            "দিশলৈ\n",
            ",\n",
            "ধোনী\n",
            "হৈছে\n",
            "এটি\n",
            "টেণিছিৰ\n",
            "আৰু\n",
            "সৰ্বোত্তম\n",
            "মানৰ\n",
            "প্ৰতীক\n",
            "।\n",
            "🌟\n",
            "মুক্তকৰণৰ\n",
            "উৎসাৰ\n",
            "বা\n",
            "চৰণ\n",
            "হৈছে\n",
            ",\n",
            "অথবা\n",
            "চলছে\n",
            "সমৰৰ\n",
            "সৃষ্টি\n",
            "কৰাৰ\n",
            "সময়ত\n",
            "দল\n",
            "সোধাৰ\n",
            "কাৰণে\n",
            ",\n",
            "ধোনীৰ\n",
            "উপকৰণ\n",
            "ক্ৰিকেট\n",
            "ইতিহাসত\n",
            "অনুচ্ছেদ\n",
            "কৰা\n",
            "হৈছে\n",
            "।\n",
            " \n",
            "তার\n",
            "নেতৃত্বৰ\n",
            "প্ৰভাৱও\n",
            "কেৰিৱাৰৰ\n",
            "সীমাৰ\n",
            "বাহিৰত\n",
            "পৰা\n",
            "একাধিক\n",
            "লোকৰ\n",
            "সৈতে\n",
            "মেলোৱাৰ\n",
            "অনুভৱ\n",
            "কৰা\n",
            "হৈছে\n",
            "।\n",
            "🏆\n",
            "ইংৰাজী\n",
            "আৰু\n",
            "ফোন\n",
            "নম্বৰৰ\n",
            "সৈতে\n",
            "পৰিপূৰ্ণ\n",
            "হৈছে\n",
            "এটি\n",
            "ইমেইলId\n",
            "।\n",
            "ক্ৰিকেট\n",
            "প্ৰেমী\n",
            "লোকজনৰ\n",
            "মধ্যে\n",
            "ধোনীৰ\n",
            "উপকৰণ\n",
            "আত্ম\n",
            "-\n",
            "গর্ব\n",
            "আৰু\n",
            "পূৰ্বাগ্ৰহ\n",
            "উত্কৃষ্ট\n",
            "কৰে\n",
            "।\n",
            " \n",
            "ভাৰতৰ\n",
            "ক্ৰিকেট\n",
            "দললৈ\n",
            "তৰৰ\n",
            "অৰ্পণ\n",
            "কৰাৰ\n",
            "ফলত\n",
            "ধোনীৰ\n",
            "সৈতে\n",
            "সহজীৱনত\n",
            "অবিলিন্য\n",
            "।\n",
            " \n",
            "🇮\n",
            "🇳\n",
            "#\n",
            "DhoniForever\n",
            ".\n",
            "পৰ্যাপ্ত\n",
            "মানৱজন\n",
            "বিশ্ববৰ্তীৰ\n",
            "সৈতে\n",
            "তানি\n",
            "সমৰ্থন\n",
            "কৰাৰ\n",
            "পৰা\n",
            "কোনো\n",
            "বন্ধন\n",
            "নহয়\n",
            "।\n",
            "ইয়াৰ\n",
            "ইমেইল\n",
            "ঠিক\n",
            "mynameisdhoni7@yahoo.com\n",
            "🥳\n",
            "🥳\n",
            "🥳\n",
            "।\n"
          ]
        }
      ],
      "source": [
        "nlp = spacy.blank(\"en\")\n",
        "doc = nlp(text)\n",
        "for token in doc:\n",
        "    print(token)"
      ]
    },
    {
      "cell_type": "markdown",
      "metadata": {
        "id": "0Ff-MKZdKXI7"
      },
      "source": [
        "spaCy's tokenizer is highly customizable and designed for efficiency and accuracy.\n",
        "Ideal for various NLP tasks, including named entity recognition, dependency parsing, and text classification."
      ]
    },
    {
      "cell_type": "code",
      "execution_count": 50,
      "metadata": {
        "id": "i9sD9VixT_vZ"
      },
      "outputs": [],
      "source": [
        "from gensim.utils import tokenize"
      ]
    },
    {
      "cell_type": "code",
      "execution_count": 51,
      "metadata": {
        "colab": {
          "base_uri": "https://localhost:8080/"
        },
        "id": "Fo83ue1mUPHN",
        "outputId": "3148b83f-8697-4e13-ecca-384238a17cbd"
      },
      "outputs": [
        {
          "output_type": "stream",
          "name": "stdout",
          "text": [
            "['ত', 'ন', 'আৰ', 'ম', 'ইৰ', 'ক', 'ৰ', 'ক', 'ট', 'ক', 'ষ', 'ত', 'ৰত', 'সহ', 'ন', 'ভ', 'ত', 'ৰ', 'ব', 'ব', 'প', 'ৰস', 'দ', 'ধ', 'মহ', 'ন', 'দ', 'ৰ', 'স', 'ধ', 'ন', 'য', 'ন', 'আফ', 'চ', 'য়', 'টল', 'ক', 'প', 'ট', 'ন', 'ক', 'ল', 'ন', 'ম', 'প', 'ৰ', 'য', 'ত', 'ধৰ', 'হয', 'সন', 'য', 'ল', 'ই', 'ত', 'জন', 'ম', 'ত', 'ধ', 'ন', 'ৰ', 'ন', 'ত', 'ত', 'বৰ', 'শ', 'ল', 'য', 'ক', 'শলগ', 'ণ', 'আৰ', 'অম', 'ল', 'য', 'দ', 'ঢ়ত', 'ৰ', 'দৰ', 'চ', 'হ', 'ন', 'ত', 'হ', 'ছ', 'ত', 'ৰ', 'ফল', 'ভ', 'ৰতৰ', 'ক', 'ৰ', 'ক', 'ট', 'দলৰ', 'স', 'ফল', 'যত', 'উন', 'নত', 'হ', 'ছ', 'প', 'ৰ', 'স', 'রৰ', 'ত', 'তৰ', 'ক', 'অধ', 'নত', 'খ', 'ল', 'পঢ', 'ৰ', 'অদ', 'ভ', 'ত', 'ক', 'ষমত', 'স', 'ত', 'ত', 'ৰ', 'খ', 'ল', 'পঢ', 'ৰ', 'এব', 'ত', 'তৰ', 'ক', 'ন', 'র', 'ধ', 'ৰণ', 'কৰ', 'ৰ', 'ক', 'ষমত', 'ৰ', 'ক', 'ৰণ', 'ত', 'ন', 'ব', 'শ', 'ববৰ', 'ত', 'অন', 'গ', 'ৰহৰ', 'অন', 'ভৱ', 'কৰ', 'ৰ', 'জন', 'য', 'প', 'ৰশ', 'স', 'পৰ', 'দশকৰ', 'ব', 'য', 'প', 'ৰত', 'য', 'ৱ', 'এট', 'ক', 'ৰ', 'ৱ', 'ৰৰ', 'দ', 'শল', 'ধ', 'ন', 'হ', 'ছ', 'এট', 'ট', 'ণ', 'ছ', 'ৰ', 'আৰ', 'সৰ', 'ব', 'ত', 'তম', 'ম', 'নৰ', 'প', 'ৰত', 'ক', 'ম', 'ক', 'তকৰণৰ', 'উৎস', 'ৰ', 'ব', 'চৰণ', 'হ', 'ছ', 'অথব', 'চলছ', 'সমৰৰ', 'স', 'ষ', 'ট', 'কৰ', 'ৰ', 'সময়ত', 'দল', 'স', 'ধ', 'ৰ', 'ক', 'ৰণ', 'ধ', 'ন', 'ৰ', 'উপকৰণ', 'ক', 'ৰ', 'ক', 'ট', 'ইত', 'হ', 'সত', 'অন', 'চ', 'ছ', 'দ', 'কৰ', 'হ', 'ছ', 'ত', 'র', 'ন', 'ত', 'ত', 'বৰ', 'প', 'ৰভ', 'ৱও', 'ক', 'ৰ', 'ৱ', 'ৰৰ', 'স', 'ম', 'ৰ', 'ব', 'হ', 'ৰত', 'পৰ', 'এক', 'ধ', 'ক', 'ল', 'কৰ', 'স', 'ত', 'ম', 'ল', 'ৱ', 'ৰ', 'অন', 'ভৱ', 'কৰ', 'হ', 'ছ', 'ই', 'ৰ', 'জ', 'আৰ', 'ফ', 'ন', 'নম', 'বৰৰ', 'স', 'ত', 'পৰ', 'প', 'ৰ', 'ণ', 'হ', 'ছ', 'এট', 'ইম', 'ইলId', 'ক', 'ৰ', 'ক', 'ট', 'প', 'ৰ', 'ম', 'ল', 'কজনৰ', 'মধ', 'য', 'ধ', 'ন', 'ৰ', 'উপকৰণ', 'আত', 'ম', 'গর', 'ব', 'আৰ', 'প', 'ৰ', 'ব', 'গ', 'ৰহ', 'উত', 'ক', 'ষ', 'ট', 'কৰ', 'ভ', 'ৰতৰ', 'ক', 'ৰ', 'ক', 'ট', 'দলল', 'তৰৰ', 'অৰ', 'পণ', 'কৰ', 'ৰ', 'ফলত', 'ধ', 'ন', 'ৰ', 'স', 'ত', 'সহজ', 'ৱনত', 'অব', 'ল', 'ন', 'য', 'DhoniForever', 'পৰ', 'য', 'প', 'ত', 'ম', 'নৱজন', 'ব', 'শ', 'ববৰ', 'ত', 'ৰ', 'স', 'ত', 'ত', 'ন', 'সমৰ', 'থন', 'কৰ', 'ৰ', 'পৰ', 'ক', 'ন', 'বন', 'ধন', 'নহয়', 'ইয', 'ৰ', 'ইম', 'ইল', 'ঠ', 'ক', 'mynameisdhoni', 'yahoo', 'com']\n"
          ]
        }
      ],
      "source": [
        "tokens = list(tokenize(text))\n",
        "print(tokens)"
      ]
    },
    {
      "cell_type": "code",
      "execution_count": 52,
      "metadata": {
        "id": "Vkr_PEM9UQaY"
      },
      "outputs": [],
      "source": [
        "text1 = (\"🏏 Bekannt für seine ruhige und gelassene Art sowohl auf als auch neben dem Cricketfeld wird Mahendra Singh Dhoni liebevoll als Captain Cool bezeichnet.\" +\n",
        "\"Er war ein Eckpfeiler des Erfolgs des indischen Cricket-Teams. Am 7. Juli 1981 geboren, hat Dhonis Führungsstil, geprägt von strategischem Scharfsinn und unbeugsamem Durchhaltevermögen, Indien ❤❤❤ zu neuen Höhen geführt.\" +\n",
        "\"Seine erstaunliche Fähigkeit, das Spiel zu lesen und kluge Entscheidungen unter Druck zu treffen, hat ihm die Bewunderung von Fans weltweit eingebracht. Mit einer Karriere, die Jahrzehnte umspannt, ist Dhoni zum Symbol für Widerstandsfähigkeit und Exzellenz geworden.\" +\n",
        "\"🌟 Ob er aufregende Siege orchestriert oder das Team durch herausfordernde Zeiten führt, Dhonis Erbe ist in den Annalen der Cricket-Geschichte verewigt.\" +\n",
        "\"Seine Führungsfähigkeiten spiegeln sich nicht nur im Cricket wider, sondern hallen auch bei denen wider, die seinen unerschütterlichen Geist bewundern. 🏆 Als ikonische Figur in der Cricket-Welt erstreckt sich Dhonis Einfluss über die Spielfeldgrenzen hinaus.\" +\n",
        "\"In einer Welt, die von E-Mails und Telefonnummern überschwemmt ist, ruft die Erwähnung von Dhoni bei Cricket-Enthusiasten ein Gefühl von Stolz und Nostalgie hervor.\" +\n",
        "\"Seine Beiträge zum indischen Cricket-Team sind unauslöschlich, und seine Geschichte inspiriert weiterhin Generationen.\" +\n",
        "\"🇮🇳 #DhoniForever. Millionen von Menschen weltweit werden ihn nie aufhören zu unterstützen. Seine E-Mail-Adresse lautet mynameisdhoni7@yahoo.com 🥳🥳🥳.\")"
      ]
    },
    {
      "cell_type": "code",
      "source": [
        "nltk_tokens = nltk.word_tokenize(text1)\n",
        "print (nltk_tokens)"
      ],
      "metadata": {
        "colab": {
          "base_uri": "https://localhost:8080/"
        },
        "id": "aG7ri2mJRvNV",
        "outputId": "86538f25-c138-4f34-a713-f6ef1a0e69bb"
      },
      "execution_count": 53,
      "outputs": [
        {
          "output_type": "stream",
          "name": "stdout",
          "text": [
            "['🏏', 'Bekannt', 'für', 'seine', 'ruhige', 'und', 'gelassene', 'Art', 'sowohl', 'auf', 'als', 'auch', 'neben', 'dem', 'Cricketfeld', 'wird', 'Mahendra', 'Singh', 'Dhoni', 'liebevoll', 'als', 'Captain', 'Cool', 'bezeichnet.Er', 'war', 'ein', 'Eckpfeiler', 'des', 'Erfolgs', 'des', 'indischen', 'Cricket-Teams', '.', 'Am', '7', '.', 'Juli', '1981', 'geboren', ',', 'hat', 'Dhonis', 'Führungsstil', ',', 'geprägt', 'von', 'strategischem', 'Scharfsinn', 'und', 'unbeugsamem', 'Durchhaltevermögen', ',', 'Indien', '❤❤❤', 'zu', 'neuen', 'Höhen', 'geführt.Seine', 'erstaunliche', 'Fähigkeit', ',', 'das', 'Spiel', 'zu', 'lesen', 'und', 'kluge', 'Entscheidungen', 'unter', 'Druck', 'zu', 'treffen', ',', 'hat', 'ihm', 'die', 'Bewunderung', 'von', 'Fans', 'weltweit', 'eingebracht', '.', 'Mit', 'einer', 'Karriere', ',', 'die', 'Jahrzehnte', 'umspannt', ',', 'ist', 'Dhoni', 'zum', 'Symbol', 'für', 'Widerstandsfähigkeit', 'und', 'Exzellenz', 'geworden.🌟', 'Ob', 'er', 'aufregende', 'Siege', 'orchestriert', 'oder', 'das', 'Team', 'durch', 'herausfordernde', 'Zeiten', 'führt', ',', 'Dhonis', 'Erbe', 'ist', 'in', 'den', 'Annalen', 'der', 'Cricket-Geschichte', 'verewigt.Seine', 'Führungsfähigkeiten', 'spiegeln', 'sich', 'nicht', 'nur', 'im', 'Cricket', 'wider', ',', 'sondern', 'hallen', 'auch', 'bei', 'denen', 'wider', ',', 'die', 'seinen', 'unerschütterlichen', 'Geist', 'bewundern', '.', '🏆', 'Als', 'ikonische', 'Figur', 'in', 'der', 'Cricket-Welt', 'erstreckt', 'sich', 'Dhonis', 'Einfluss', 'über', 'die', 'Spielfeldgrenzen', 'hinaus.In', 'einer', 'Welt', ',', 'die', 'von', 'E-Mails', 'und', 'Telefonnummern', 'überschwemmt', 'ist', ',', 'ruft', 'die', 'Erwähnung', 'von', 'Dhoni', 'bei', 'Cricket-Enthusiasten', 'ein', 'Gefühl', 'von', 'Stolz', 'und', 'Nostalgie', 'hervor.Seine', 'Beiträge', 'zum', 'indischen', 'Cricket-Team', 'sind', 'unauslöschlich', ',', 'und', 'seine', 'Geschichte', 'inspiriert', 'weiterhin', 'Generationen.🇮🇳', '#', 'DhoniForever', '.', 'Millionen', 'von', 'Menschen', 'weltweit', 'werden', 'ihn', 'nie', 'aufhören', 'zu', 'unterstützen', '.', 'Seine', 'E-Mail-Adresse', 'lautet', 'mynameisdhoni7', '@', 'yahoo.com', '🥳🥳🥳', '.']\n"
          ]
        }
      ]
    },
    {
      "cell_type": "code",
      "source": [
        "nltk_tokens = nltk.sent_tokenize(text1)\n",
        "print (nltk_tokens)"
      ],
      "metadata": {
        "colab": {
          "base_uri": "https://localhost:8080/"
        },
        "id": "07CtJ2ojSEM5",
        "outputId": "f5de2604-6313-445b-8bbc-a800265f9829"
      },
      "execution_count": 54,
      "outputs": [
        {
          "output_type": "stream",
          "name": "stdout",
          "text": [
            "['🏏 Bekannt für seine ruhige und gelassene Art sowohl auf als auch neben dem Cricketfeld wird Mahendra Singh Dhoni liebevoll als Captain Cool bezeichnet.Er war ein Eckpfeiler des Erfolgs des indischen Cricket-Teams.', 'Am 7.', 'Juli 1981 geboren, hat Dhonis Führungsstil, geprägt von strategischem Scharfsinn und unbeugsamem Durchhaltevermögen, Indien ❤❤❤ zu neuen Höhen geführt.Seine erstaunliche Fähigkeit, das Spiel zu lesen und kluge Entscheidungen unter Druck zu treffen, hat ihm die Bewunderung von Fans weltweit eingebracht.', 'Mit einer Karriere, die Jahrzehnte umspannt, ist Dhoni zum Symbol für Widerstandsfähigkeit und Exzellenz geworden.🌟 Ob er aufregende Siege orchestriert oder das Team durch herausfordernde Zeiten führt, Dhonis Erbe ist in den Annalen der Cricket-Geschichte verewigt.Seine Führungsfähigkeiten spiegeln sich nicht nur im Cricket wider, sondern hallen auch bei denen wider, die seinen unerschütterlichen Geist bewundern.', '🏆 Als ikonische Figur in der Cricket-Welt erstreckt sich Dhonis Einfluss über die Spielfeldgrenzen hinaus.In einer Welt, die von E-Mails und Telefonnummern überschwemmt ist, ruft die Erwähnung von Dhoni bei Cricket-Enthusiasten ein Gefühl von Stolz und Nostalgie hervor.Seine Beiträge zum indischen Cricket-Team sind unauslöschlich, und seine Geschichte inspiriert weiterhin Generationen.🇮🇳 #DhoniForever.', 'Millionen von Menschen weltweit werden ihn nie aufhören zu unterstützen.', 'Seine E-Mail-Adresse lautet mynameisdhoni7@yahoo.com 🥳🥳🥳.']\n"
          ]
        }
      ]
    },
    {
      "cell_type": "code",
      "source": [
        "result = WordPunctTokenizer().tokenize(text1)\n",
        "print(\"\\nSplit all punctuation into separate tokens:\")\n",
        "print(result)"
      ],
      "metadata": {
        "colab": {
          "base_uri": "https://localhost:8080/"
        },
        "id": "BdTCUxfASJez",
        "outputId": "55dfd230-c6ca-49c1-bdf8-99e61dea0822"
      },
      "execution_count": 55,
      "outputs": [
        {
          "output_type": "stream",
          "name": "stdout",
          "text": [
            "\n",
            "Split all punctuation into separate tokens:\n",
            "['🏏', 'Bekannt', 'für', 'seine', 'ruhige', 'und', 'gelassene', 'Art', 'sowohl', 'auf', 'als', 'auch', 'neben', 'dem', 'Cricketfeld', 'wird', 'Mahendra', 'Singh', 'Dhoni', 'liebevoll', 'als', 'Captain', 'Cool', 'bezeichnet', '.', 'Er', 'war', 'ein', 'Eckpfeiler', 'des', 'Erfolgs', 'des', 'indischen', 'Cricket', '-', 'Teams', '.', 'Am', '7', '.', 'Juli', '1981', 'geboren', ',', 'hat', 'Dhonis', 'Führungsstil', ',', 'geprägt', 'von', 'strategischem', 'Scharfsinn', 'und', 'unbeugsamem', 'Durchhaltevermögen', ',', 'Indien', '❤❤❤', 'zu', 'neuen', 'Höhen', 'geführt', '.', 'Seine', 'erstaunliche', 'Fähigkeit', ',', 'das', 'Spiel', 'zu', 'lesen', 'und', 'kluge', 'Entscheidungen', 'unter', 'Druck', 'zu', 'treffen', ',', 'hat', 'ihm', 'die', 'Bewunderung', 'von', 'Fans', 'weltweit', 'eingebracht', '.', 'Mit', 'einer', 'Karriere', ',', 'die', 'Jahrzehnte', 'umspannt', ',', 'ist', 'Dhoni', 'zum', 'Symbol', 'für', 'Widerstandsfähigkeit', 'und', 'Exzellenz', 'geworden', '.🌟', 'Ob', 'er', 'aufregende', 'Siege', 'orchestriert', 'oder', 'das', 'Team', 'durch', 'herausfordernde', 'Zeiten', 'führt', ',', 'Dhonis', 'Erbe', 'ist', 'in', 'den', 'Annalen', 'der', 'Cricket', '-', 'Geschichte', 'verewigt', '.', 'Seine', 'Führungsfähigkeiten', 'spiegeln', 'sich', 'nicht', 'nur', 'im', 'Cricket', 'wider', ',', 'sondern', 'hallen', 'auch', 'bei', 'denen', 'wider', ',', 'die', 'seinen', 'unerschütterlichen', 'Geist', 'bewundern', '.', '🏆', 'Als', 'ikonische', 'Figur', 'in', 'der', 'Cricket', '-', 'Welt', 'erstreckt', 'sich', 'Dhonis', 'Einfluss', 'über', 'die', 'Spielfeldgrenzen', 'hinaus', '.', 'In', 'einer', 'Welt', ',', 'die', 'von', 'E', '-', 'Mails', 'und', 'Telefonnummern', 'überschwemmt', 'ist', ',', 'ruft', 'die', 'Erwähnung', 'von', 'Dhoni', 'bei', 'Cricket', '-', 'Enthusiasten', 'ein', 'Gefühl', 'von', 'Stolz', 'und', 'Nostalgie', 'hervor', '.', 'Seine', 'Beiträge', 'zum', 'indischen', 'Cricket', '-', 'Team', 'sind', 'unauslöschlich', ',', 'und', 'seine', 'Geschichte', 'inspiriert', 'weiterhin', 'Generationen', '.🇮🇳', '#', 'DhoniForever', '.', 'Millionen', 'von', 'Menschen', 'weltweit', 'werden', 'ihn', 'nie', 'aufhören', 'zu', 'unterstützen', '.', 'Seine', 'E', '-', 'Mail', '-', 'Adresse', 'lautet', 'mynameisdhoni7', '@', 'yahoo', '.', 'com', '🥳🥳🥳.']\n"
          ]
        }
      ]
    },
    {
      "cell_type": "code",
      "source": [
        "toks1 = t.tokenize(text1)\n",
        "d.detokenize(toks1)"
      ],
      "metadata": {
        "colab": {
          "base_uri": "https://localhost:8080/",
          "height": 105
        },
        "id": "A7BK20ThSQz7",
        "outputId": "590469eb-d45e-4de6-ba42-a67837e182e3"
      },
      "execution_count": 56,
      "outputs": [
        {
          "output_type": "execute_result",
          "data": {
            "text/plain": [
              "'🏏 Bekannt für seine ruhige und gelassene Art sowohl auf als auch neben dem Cricketfeld wird Mahendra Singh Dhoni liebevoll als Captain Cool bezeichnet.Er war ein Eckpfeiler des Erfolgs des indischen Cricket-Teams. Am 7. Juli 1981 geboren, hat Dhonis Führungsstil, geprägt von strategischem Scharfsinn und unbeugsamem Durchhaltevermögen, Indien ❤❤❤ zu neuen Höhen geführt.Seine erstaunliche Fähigkeit, das Spiel zu lesen und kluge Entscheidungen unter Druck zu treffen, hat ihm die Bewunderung von Fans weltweit eingebracht. Mit einer Karriere, die Jahrzehnte umspannt, ist Dhoni zum Symbol für Widerstandsfähigkeit und Exzellenz geworden.🌟 Ob er aufregende Siege orchestriert oder das Team durch herausfordernde Zeiten führt, Dhonis Erbe ist in den Annalen der Cricket-Geschichte verewigt.Seine Führungsfähigkeiten spiegeln sich nicht nur im Cricket wider, sondern hallen auch bei denen wider, die seinen unerschütterlichen Geist bewundern. 🏆 Als ikonische Figur in der Cricket-Welt erstreckt sich Dhonis Einfluss über die Spielfeldgrenzen hinaus.In einer Welt, die von E-Mails und Telefonnummern überschwemmt ist, ruft die Erwähnung von Dhoni bei Cricket-Enthusiasten ein Gefühl von Stolz und Nostalgie hervor.Seine Beiträge zum indischen Cricket-Team sind unauslöschlich, und seine Geschichte inspiriert weiterhin Generationen.🇮🇳 #DhoniForever. Millionen von Menschen weltweit werden ihn nie aufhören zu unterstützen. Seine E-Mail-Adresse lautet mynameisdhoni7 @ yahoo.com 🥳🥳🥳.'"
            ],
            "application/vnd.google.colaboratory.intrinsic+json": {
              "type": "string"
            }
          },
          "metadata": {},
          "execution_count": 56
        }
      ]
    },
    {
      "cell_type": "code",
      "source": [
        "z = tk.tokenize(text1)\n",
        "print(z)"
      ],
      "metadata": {
        "colab": {
          "base_uri": "https://localhost:8080/"
        },
        "id": "ia_QKNe1SZFq",
        "outputId": "ef84fe75-2c8c-448f-d29a-c4dc4f93b42c"
      },
      "execution_count": 57,
      "outputs": [
        {
          "output_type": "stream",
          "name": "stdout",
          "text": [
            "['🏏', 'Bekannt', 'für', 'seine', 'ruhige', 'und', 'gelassene', 'Art', 'sowohl', 'auf', 'als', 'auch', 'neben', 'dem', 'Cricketfeld', 'wird', 'Mahendra', 'Singh', 'Dhoni', 'liebevoll', 'als', 'Captain', 'Cool', 'bezeichnet.Er', 'war', 'ein', 'Eckpfeiler', 'des', 'Erfolgs', 'des', 'indischen', 'Cricket-Teams', '.', 'Am', '7', '.', 'Juli', '1981', 'geboren', ',', 'hat', 'Dhonis', 'Führungsstil', ',', 'geprägt', 'von', 'strategischem', 'Scharfsinn', 'und', 'unbeugsamem', 'Durchhaltevermögen', ',', 'Indien', '❤', '❤', '❤', 'zu', 'neuen', 'Höhen', 'geführt', '.', 'Seine', 'erstaunliche', 'Fähigkeit', ',', 'das', 'Spiel', 'zu', 'lesen', 'und', 'kluge', 'Entscheidungen', 'unter', 'Druck', 'zu', 'treffen', ',', 'hat', 'ihm', 'die', 'Bewunderung', 'von', 'Fans', 'weltweit', 'eingebracht', '.', 'Mit', 'einer', 'Karriere', ',', 'die', 'Jahrzehnte', 'umspannt', ',', 'ist', 'Dhoni', 'zum', 'Symbol', 'für', 'Widerstandsfähigkeit', 'und', 'Exzellenz', 'geworden', '.', '🌟', 'Ob', 'er', 'aufregende', 'Siege', 'orchestriert', 'oder', 'das', 'Team', 'durch', 'herausfordernde', 'Zeiten', 'führt', ',', 'Dhonis', 'Erbe', 'ist', 'in', 'den', 'Annalen', 'der', 'Cricket-Geschichte', 'verewigt.Seine', 'Führungsfähigkeiten', 'spiegeln', 'sich', 'nicht', 'nur', 'im', 'Cricket', 'wider', ',', 'sondern', 'hallen', 'auch', 'bei', 'denen', 'wider', ',', 'die', 'seinen', 'unerschütterlichen', 'Geist', 'bewundern', '.', '🏆', 'Als', 'ikonische', 'Figur', 'in', 'der', 'Cricket-Welt', 'erstreckt', 'sich', 'Dhonis', 'Einfluss', 'über', 'die', 'Spielfeldgrenzen', 'hinaus.In', 'einer', 'Welt', ',', 'die', 'von', 'E-Mails', 'und', 'Telefonnummern', 'überschwemmt', 'ist', ',', 'ruft', 'die', 'Erwähnung', 'von', 'Dhoni', 'bei', 'Cricket-Enthusiasten', 'ein', 'Gefühl', 'von', 'Stolz', 'und', 'Nostalgie', 'hervor.Seine', 'Beiträge', 'zum', 'indischen', 'Cricket-Team', 'sind', 'unauslöschlich', ',', 'und', 'seine', 'Geschichte', 'inspiriert', 'weiterhin', 'Generationen', '.', '🇮🇳', '#DhoniForever', '.', 'Millionen', 'von', 'Menschen', 'weltweit', 'werden', 'ihn', 'nie', 'aufhören', 'zu', 'unterstützen', '.', 'Seine', 'E-Mail-Adresse', 'lautet', 'mynameisdhoni7@yahoo.com', '🥳', '🥳', '🥳', '.']\n"
          ]
        }
      ]
    },
    {
      "cell_type": "code",
      "source": [
        "blob_object1 = TextBlob(text1)\n",
        "print(\" Word Tokenize :\\n\", blob_object1.words)\n",
        "print(\"\\n Sentence Tokenize :\\n\", blob_object1.sentences)"
      ],
      "metadata": {
        "colab": {
          "base_uri": "https://localhost:8080/"
        },
        "id": "8aVEaZJvShQv",
        "outputId": "cd07c23b-24e4-4f7c-8831-20482aa75e89"
      },
      "execution_count": 58,
      "outputs": [
        {
          "output_type": "stream",
          "name": "stdout",
          "text": [
            " Word Tokenize :\n",
            " ['🏏', 'Bekannt', 'für', 'seine', 'ruhige', 'und', 'gelassene', 'Art', 'sowohl', 'auf', 'als', 'auch', 'neben', 'dem', 'Cricketfeld', 'wird', 'Mahendra', 'Singh', 'Dhoni', 'liebevoll', 'als', 'Captain', 'Cool', 'bezeichnet.Er', 'war', 'ein', 'Eckpfeiler', 'des', 'Erfolgs', 'des', 'indischen', 'Cricket-Teams', 'Am', '7', 'Juli', '1981', 'geboren', 'hat', 'Dhonis', 'Führungsstil', 'geprägt', 'von', 'strategischem', 'Scharfsinn', 'und', 'unbeugsamem', 'Durchhaltevermögen', 'Indien', '❤❤❤', 'zu', 'neuen', 'Höhen', 'geführt.Seine', 'erstaunliche', 'Fähigkeit', 'das', 'Spiel', 'zu', 'lesen', 'und', 'kluge', 'Entscheidungen', 'unter', 'Druck', 'zu', 'treffen', 'hat', 'ihm', 'die', 'Bewunderung', 'von', 'Fans', 'weltweit', 'eingebracht', 'Mit', 'einer', 'Karriere', 'die', 'Jahrzehnte', 'umspannt', 'ist', 'Dhoni', 'zum', 'Symbol', 'für', 'Widerstandsfähigkeit', 'und', 'Exzellenz', 'geworden.🌟', 'Ob', 'er', 'aufregende', 'Siege', 'orchestriert', 'oder', 'das', 'Team', 'durch', 'herausfordernde', 'Zeiten', 'führt', 'Dhonis', 'Erbe', 'ist', 'in', 'den', 'Annalen', 'der', 'Cricket-Geschichte', 'verewigt.Seine', 'Führungsfähigkeiten', 'spiegeln', 'sich', 'nicht', 'nur', 'im', 'Cricket', 'wider', 'sondern', 'hallen', 'auch', 'bei', 'denen', 'wider', 'die', 'seinen', 'unerschütterlichen', 'Geist', 'bewundern', '🏆', 'Als', 'ikonische', 'Figur', 'in', 'der', 'Cricket-Welt', 'erstreckt', 'sich', 'Dhonis', 'Einfluss', 'über', 'die', 'Spielfeldgrenzen', 'hinaus.In', 'einer', 'Welt', 'die', 'von', 'E-Mails', 'und', 'Telefonnummern', 'überschwemmt', 'ist', 'ruft', 'die', 'Erwähnung', 'von', 'Dhoni', 'bei', 'Cricket-Enthusiasten', 'ein', 'Gefühl', 'von', 'Stolz', 'und', 'Nostalgie', 'hervor.Seine', 'Beiträge', 'zum', 'indischen', 'Cricket-Team', 'sind', 'unauslöschlich', 'und', 'seine', 'Geschichte', 'inspiriert', 'weiterhin', 'Generationen.🇮🇳', 'DhoniForever', 'Millionen', 'von', 'Menschen', 'weltweit', 'werden', 'ihn', 'nie', 'aufhören', 'zu', 'unterstützen', 'Seine', 'E-Mail-Adresse', 'lautet', 'mynameisdhoni7', 'yahoo.com', '🥳🥳🥳']\n",
            "\n",
            " Sentence Tokenize :\n",
            " [Sentence(\"🏏 Bekannt für seine ruhige und gelassene Art sowohl auf als auch neben dem Cricketfeld wird Mahendra Singh Dhoni liebevoll als Captain Cool bezeichnet.Er war ein Eckpfeiler des Erfolgs des indischen Cricket-Teams.\"), Sentence(\"Am 7.\"), Sentence(\"Juli 1981 geboren, hat Dhonis Führungsstil, geprägt von strategischem Scharfsinn und unbeugsamem Durchhaltevermögen, Indien ❤❤❤ zu neuen Höhen geführt.Seine erstaunliche Fähigkeit, das Spiel zu lesen und kluge Entscheidungen unter Druck zu treffen, hat ihm die Bewunderung von Fans weltweit eingebracht.\"), Sentence(\"Mit einer Karriere, die Jahrzehnte umspannt, ist Dhoni zum Symbol für Widerstandsfähigkeit und Exzellenz geworden.🌟 Ob er aufregende Siege orchestriert oder das Team durch herausfordernde Zeiten führt, Dhonis Erbe ist in den Annalen der Cricket-Geschichte verewigt.Seine Führungsfähigkeiten spiegeln sich nicht nur im Cricket wider, sondern hallen auch bei denen wider, die seinen unerschütterlichen Geist bewundern.\"), Sentence(\"🏆 Als ikonische Figur in der Cricket-Welt erstreckt sich Dhonis Einfluss über die Spielfeldgrenzen hinaus.In einer Welt, die von E-Mails und Telefonnummern überschwemmt ist, ruft die Erwähnung von Dhoni bei Cricket-Enthusiasten ein Gefühl von Stolz und Nostalgie hervor.Seine Beiträge zum indischen Cricket-Team sind unauslöschlich, und seine Geschichte inspiriert weiterhin Generationen.🇮🇳 #DhoniForever.\"), Sentence(\"Millionen von Menschen weltweit werden ihn nie aufhören zu unterstützen.\"), Sentence(\"Seine E-Mail-Adresse lautet mynameisdhoni7@yahoo.com 🥳🥳🥳.\")]\n"
          ]
        }
      ]
    },
    {
      "cell_type": "code",
      "source": [
        "nlp = spacy.blank(\"en\")\n",
        "doc = nlp(text1)\n",
        "for token in doc:\n",
        "    print(token)"
      ],
      "metadata": {
        "colab": {
          "base_uri": "https://localhost:8080/"
        },
        "id": "5aQBZXalSnGk",
        "outputId": "63042f63-84b2-4e73-bfca-fa04f5e567ef"
      },
      "execution_count": 59,
      "outputs": [
        {
          "output_type": "stream",
          "name": "stdout",
          "text": [
            "🏏\n",
            "Bekannt\n",
            "für\n",
            "seine\n",
            "ruhige\n",
            "und\n",
            "gelassene\n",
            "Art\n",
            "sowohl\n",
            "auf\n",
            "als\n",
            "auch\n",
            "neben\n",
            "dem\n",
            "Cricketfeld\n",
            "wird\n",
            "Mahendra\n",
            "Singh\n",
            "Dhoni\n",
            "liebevoll\n",
            "als\n",
            "Captain\n",
            "Cool\n",
            "bezeichnet\n",
            ".\n",
            "Er\n",
            "war\n",
            "ein\n",
            "Eckpfeiler\n",
            "des\n",
            "Erfolgs\n",
            "des\n",
            "indischen\n",
            "Cricket\n",
            "-\n",
            "Teams\n",
            ".\n",
            "Am\n",
            "7\n",
            ".\n",
            "Juli\n",
            "1981\n",
            "geboren\n",
            ",\n",
            "hat\n",
            "Dhonis\n",
            "Führungsstil\n",
            ",\n",
            "geprägt\n",
            "von\n",
            "strategischem\n",
            "Scharfsinn\n",
            "und\n",
            "unbeugsamem\n",
            "Durchhaltevermögen\n",
            ",\n",
            "Indien\n",
            "❤\n",
            "❤\n",
            "❤\n",
            "zu\n",
            "neuen\n",
            "Höhen\n",
            "geführt\n",
            ".\n",
            "Seine\n",
            "erstaunliche\n",
            "Fähigkeit\n",
            ",\n",
            "das\n",
            "Spiel\n",
            "zu\n",
            "lesen\n",
            "und\n",
            "kluge\n",
            "Entscheidungen\n",
            "unter\n",
            "Druck\n",
            "zu\n",
            "treffen\n",
            ",\n",
            "hat\n",
            "ihm\n",
            "die\n",
            "Bewunderung\n",
            "von\n",
            "Fans\n",
            "weltweit\n",
            "eingebracht\n",
            ".\n",
            "Mit\n",
            "einer\n",
            "Karriere\n",
            ",\n",
            "die\n",
            "Jahrzehnte\n",
            "umspannt\n",
            ",\n",
            "ist\n",
            "Dhoni\n",
            "zum\n",
            "Symbol\n",
            "für\n",
            "Widerstandsfähigkeit\n",
            "und\n",
            "Exzellenz\n",
            "geworden\n",
            ".\n",
            "🌟\n",
            "Ob\n",
            "er\n",
            "aufregende\n",
            "Siege\n",
            "orchestriert\n",
            "oder\n",
            "das\n",
            "Team\n",
            "durch\n",
            "herausfordernde\n",
            "Zeiten\n",
            "führt\n",
            ",\n",
            "Dhonis\n",
            "Erbe\n",
            "ist\n",
            "in\n",
            "den\n",
            "Annalen\n",
            "der\n",
            "Cricket\n",
            "-\n",
            "Geschichte\n",
            "verewigt\n",
            ".\n",
            "Seine\n",
            "Führungsfähigkeiten\n",
            "spiegeln\n",
            "sich\n",
            "nicht\n",
            "nur\n",
            "i\n",
            "m\n",
            "Cricket\n",
            "wider\n",
            ",\n",
            "sondern\n",
            "hallen\n",
            "auch\n",
            "bei\n",
            "denen\n",
            "wider\n",
            ",\n",
            "die\n",
            "seinen\n",
            "unerschütterlichen\n",
            "Geist\n",
            "bewundern\n",
            ".\n",
            "🏆\n",
            "Als\n",
            "ikonische\n",
            "Figur\n",
            "in\n",
            "der\n",
            "Cricket\n",
            "-\n",
            "Welt\n",
            "erstreckt\n",
            "sich\n",
            "Dhonis\n",
            "Einfluss\n",
            "über\n",
            "die\n",
            "Spielfeldgrenzen\n",
            "hinaus\n",
            ".\n",
            "In\n",
            "einer\n",
            "Welt\n",
            ",\n",
            "die\n",
            "von\n",
            "E\n",
            "-\n",
            "Mails\n",
            "und\n",
            "Telefonnummern\n",
            "überschwemmt\n",
            "ist\n",
            ",\n",
            "ruft\n",
            "die\n",
            "Erwähnung\n",
            "von\n",
            "Dhoni\n",
            "bei\n",
            "Cricket\n",
            "-\n",
            "Enthusiasten\n",
            "ein\n",
            "Gefühl\n",
            "von\n",
            "Stolz\n",
            "und\n",
            "Nostalgie\n",
            "hervor\n",
            ".\n",
            "Seine\n",
            "Beiträge\n",
            "zum\n",
            "indischen\n",
            "Cricket\n",
            "-\n",
            "Team\n",
            "sind\n",
            "unauslöschlich\n",
            ",\n",
            "und\n",
            "seine\n",
            "Geschichte\n",
            "inspiriert\n",
            "weiterhin\n",
            "Generationen\n",
            ".\n",
            "🇮\n",
            "🇳\n",
            "#\n",
            "DhoniForever\n",
            ".\n",
            "Millionen\n",
            "von\n",
            "Menschen\n",
            "weltweit\n",
            "werden\n",
            "ihn\n",
            "nie\n",
            "aufhören\n",
            "zu\n",
            "unterstützen\n",
            ".\n",
            "Seine\n",
            "E\n",
            "-\n",
            "Mail\n",
            "-\n",
            "Adresse\n",
            "lautet\n",
            "mynameisdhoni7@yahoo.com\n",
            "🥳\n",
            "🥳\n",
            "🥳\n",
            ".\n"
          ]
        }
      ]
    },
    {
      "cell_type": "code",
      "source": [],
      "metadata": {
        "id": "nPOR7_5XSwd3"
      },
      "execution_count": 59,
      "outputs": []
    }
  ],
  "metadata": {
    "colab": {
      "provenance": [],
      "authorship_tag": "ABX9TyMnIlEV7PGLbh7dF74/ajNs",
      "include_colab_link": true
    },
    "kernelspec": {
      "display_name": "Python 3",
      "name": "python3"
    },
    "language_info": {
      "name": "python"
    }
  },
  "nbformat": 4,
  "nbformat_minor": 0
}