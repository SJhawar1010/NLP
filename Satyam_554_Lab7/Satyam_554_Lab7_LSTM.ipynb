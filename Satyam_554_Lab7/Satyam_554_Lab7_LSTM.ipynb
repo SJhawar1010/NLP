{
  "nbformat": 4,
  "nbformat_minor": 0,
  "metadata": {
    "colab": {
      "provenance": []
    },
    "kernelspec": {
      "name": "python3",
      "display_name": "Python 3"
    },
    "language_info": {
      "name": "python"
    }
  },
  "cells": [
    {
      "cell_type": "code",
      "execution_count": 1,
      "metadata": {
        "colab": {
          "base_uri": "https://localhost:8080/"
        },
        "id": "YZSE8yildHjD",
        "outputId": "be2e94f8-ca94-4e39-ff3c-19f2ed16bc45"
      },
      "outputs": [
        {
          "output_type": "stream",
          "name": "stdout",
          "text": [
            "Mounted at /content/drive\n"
          ]
        }
      ],
      "source": [
        "from google.colab import drive\n",
        "drive.mount('/content/drive')"
      ]
    },
    {
      "cell_type": "code",
      "source": [
        "import pandas as pd\n",
        "import numpy as np\n",
        "from sklearn.model_selection import train_test_split\n",
        "from keras.preprocessing.text import Tokenizer\n",
        "from keras.preprocessing.sequence import pad_sequences\n",
        "from keras.models import Sequential\n",
        "from keras.layers import Embedding, LSTM, Dense, Dropout\n",
        "from keras.utils import to_categorical"
      ],
      "metadata": {
        "id": "knIKwiP7de3M"
      },
      "execution_count": 5,
      "outputs": []
    },
    {
      "cell_type": "code",
      "source": [
        "data = pd.read_csv(\"/content/drive/MyDrive/NLP Datasets/sentimentdataset.csv\")"
      ],
      "metadata": {
        "id": "h3maqOz6dgOr"
      },
      "execution_count": 21,
      "outputs": []
    },
    {
      "cell_type": "code",
      "source": [
        "data['Platform'] = data['Platform'].str.strip()\n",
        "data['Country'] = data['Country'].str.strip()"
      ],
      "metadata": {
        "id": "JkTrwj-xdh3A"
      },
      "execution_count": 22,
      "outputs": []
    },
    {
      "cell_type": "code",
      "source": [
        "valid_sentiments = {'positive', 'neutral', 'negative'}\n",
        "data = data[data['Sentiment'].apply(lambda x: x.strip().lower() in valid_sentiments)]"
      ],
      "metadata": {
        "id": "WDGebqGYhIax"
      },
      "execution_count": 23,
      "outputs": []
    },
    {
      "cell_type": "code",
      "source": [
        "texts = data['Text'].values\n",
        "sentiments = data['Sentiment'].values"
      ],
      "metadata": {
        "id": "x0l09pv-drtq"
      },
      "execution_count": 24,
      "outputs": []
    },
    {
      "cell_type": "code",
      "source": [
        "sentiment_labels = {'positive': 2, 'neutral': 1, 'negative': 0}\n",
        "labels = np.array([sentiment_labels[s.strip().lower()] for s in sentiments])"
      ],
      "metadata": {
        "id": "x0pQ257-eNID"
      },
      "execution_count": 25,
      "outputs": []
    },
    {
      "cell_type": "code",
      "source": [
        "max_words = 10000  # maximum number of words to keep\n",
        "tokenizer = Tokenizer(num_words=max_words)\n",
        "tokenizer.fit_on_texts(texts)"
      ],
      "metadata": {
        "id": "lsi-5BQNeTYQ"
      },
      "execution_count": 26,
      "outputs": []
    },
    {
      "cell_type": "code",
      "source": [
        "sequences = tokenizer.texts_to_sequences(texts)"
      ],
      "metadata": {
        "id": "eJcAPj4qfEbW"
      },
      "execution_count": 27,
      "outputs": []
    },
    {
      "cell_type": "code",
      "source": [
        "max_sequence_length = max(len(seq) for seq in sequences)"
      ],
      "metadata": {
        "id": "AhMzrjmFfGsM"
      },
      "execution_count": 28,
      "outputs": []
    },
    {
      "cell_type": "code",
      "source": [
        "sequences = pad_sequences(sequences, maxlen=max_sequence_length)"
      ],
      "metadata": {
        "id": "La0pItglfIXB"
      },
      "execution_count": 29,
      "outputs": []
    },
    {
      "cell_type": "code",
      "source": [
        "X_train, X_test, y_train, y_test = train_test_split(sequences, labels, test_size=0.3, random_state=42)"
      ],
      "metadata": {
        "id": "xL0CFOqpfKHX"
      },
      "execution_count": 30,
      "outputs": []
    },
    {
      "cell_type": "code",
      "source": [
        "embedding_dim = 100  # dimension of word embeddings\n",
        "hidden_dim = 100  # dimension of LSTM layer\n",
        "dropout_rate = 0.2"
      ],
      "metadata": {
        "id": "Xuy0AVj0fM8f"
      },
      "execution_count": 31,
      "outputs": []
    },
    {
      "cell_type": "code",
      "source": [
        "model = Sequential()\n",
        "model.add(Embedding(max_words, embedding_dim, input_length=max_sequence_length))\n",
        "model.add(LSTM(hidden_dim, dropout=dropout_rate))\n",
        "model.add(Dense(3, activation='softmax'))"
      ],
      "metadata": {
        "id": "c0IW_VQ1fPZ6"
      },
      "execution_count": 32,
      "outputs": []
    },
    {
      "cell_type": "code",
      "source": [
        "model.compile(optimizer='adam', loss='sparse_categorical_crossentropy', metrics=['accuracy'])"
      ],
      "metadata": {
        "id": "a-SONs0IfReG"
      },
      "execution_count": 33,
      "outputs": []
    },
    {
      "cell_type": "code",
      "source": [
        "model.fit(X_train, y_train, batch_size=32, epochs=10, validation_split=0.1)"
      ],
      "metadata": {
        "colab": {
          "base_uri": "https://localhost:8080/"
        },
        "id": "_oq8wyv_fTHo",
        "outputId": "9cd99b68-c5ea-4e96-b750-bd07b54dee02"
      },
      "execution_count": 34,
      "outputs": [
        {
          "output_type": "stream",
          "name": "stdout",
          "text": [
            "Epoch 1/10\n",
            "2/2 [==============================] - 3s 614ms/step - loss: 1.0987 - accuracy: 0.3415 - val_loss: 1.0704 - val_accuracy: 0.8000\n",
            "Epoch 2/10\n",
            "2/2 [==============================] - 0s 56ms/step - loss: 1.0601 - accuracy: 0.7073 - val_loss: 1.0409 - val_accuracy: 0.6000\n",
            "Epoch 3/10\n",
            "2/2 [==============================] - 0s 56ms/step - loss: 1.0196 - accuracy: 0.6829 - val_loss: 0.9972 - val_accuracy: 0.6000\n",
            "Epoch 4/10\n",
            "2/2 [==============================] - 0s 64ms/step - loss: 0.9564 - accuracy: 0.6829 - val_loss: 0.9293 - val_accuracy: 0.6000\n",
            "Epoch 5/10\n",
            "2/2 [==============================] - 0s 53ms/step - loss: 0.8665 - accuracy: 0.6829 - val_loss: 0.8371 - val_accuracy: 0.6000\n",
            "Epoch 6/10\n",
            "2/2 [==============================] - 0s 61ms/step - loss: 0.7416 - accuracy: 0.6829 - val_loss: 0.8129 - val_accuracy: 0.6000\n",
            "Epoch 7/10\n",
            "2/2 [==============================] - 0s 56ms/step - loss: 0.7561 - accuracy: 0.6829 - val_loss: 0.8788 - val_accuracy: 0.6000\n",
            "Epoch 8/10\n",
            "2/2 [==============================] - 0s 53ms/step - loss: 0.7420 - accuracy: 0.6829 - val_loss: 0.8179 - val_accuracy: 0.6000\n",
            "Epoch 9/10\n",
            "2/2 [==============================] - 0s 51ms/step - loss: 0.6693 - accuracy: 0.6829 - val_loss: 0.7858 - val_accuracy: 0.6000\n",
            "Epoch 10/10\n",
            "2/2 [==============================] - 0s 56ms/step - loss: 0.6531 - accuracy: 0.7073 - val_loss: 0.7828 - val_accuracy: 0.6000\n"
          ]
        },
        {
          "output_type": "execute_result",
          "data": {
            "text/plain": [
              "<keras.src.callbacks.History at 0x7ab2cb564820>"
            ]
          },
          "metadata": {},
          "execution_count": 34
        }
      ]
    },
    {
      "cell_type": "code",
      "source": [
        "loss, accuracy = model.evaluate(X_test, y_test)\n",
        "print('Test Loss:', loss)\n",
        "print('Test Accuracy:', accuracy)"
      ],
      "metadata": {
        "colab": {
          "base_uri": "https://localhost:8080/"
        },
        "id": "EMScZUxDfVIK",
        "outputId": "d44a9c37-4717-4012-cae1-4861639d8e09"
      },
      "execution_count": 35,
      "outputs": [
        {
          "output_type": "stream",
          "name": "stdout",
          "text": [
            "1/1 [==============================] - 0s 32ms/step - loss: 0.6965 - accuracy: 0.6667\n",
            "Test Loss: 0.6965096592903137\n",
            "Test Accuracy: 0.6666666865348816\n"
          ]
        }
      ]
    },
    {
      "cell_type": "code",
      "source": [],
      "metadata": {
        "id": "2aP8WMARhbQl"
      },
      "execution_count": null,
      "outputs": []
    }
  ]
}