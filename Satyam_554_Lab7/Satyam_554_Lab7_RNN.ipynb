{
  "cells": [
    {
      "cell_type": "code",
      "execution_count": null,
      "metadata": {
        "colab": {
          "base_uri": "https://localhost:8080/"
        },
        "id": "cStEe-ycbfBX",
        "outputId": "7cae5f37-92c5-4268-828b-291c722ed676"
      },
      "outputs": [
        {
          "name": "stdout",
          "output_type": "stream",
          "text": [
            "Mounted at /content/drive\n"
          ]
        }
      ],
      "source": [
        "from google.colab import drive\n",
        "drive.mount('/content/drive')"
      ]
    },
    {
      "cell_type": "code",
      "execution_count": null,
      "metadata": {
        "id": "FSfdUJdkbjuz"
      },
      "outputs": [],
      "source": [
        "import pandas as pd\n",
        "import matplotlib.pyplot as plt\n",
        "import seaborn as sns"
      ]
    },
    {
      "cell_type": "code",
      "execution_count": null,
      "metadata": {
        "id": "1tIcObO-blP3"
      },
      "outputs": [],
      "source": [
        "data = pd.read_csv(\"/content/drive/MyDrive/NLP Datasets/sentimentdataset.csv\")"
      ]
    },
    {
      "cell_type": "code",
      "execution_count": null,
      "metadata": {
        "id": "FsLzGFKzbm_v"
      },
      "outputs": [],
      "source": [
        "data['Platform'] = data['Platform'].str.strip()\n",
        "data['Country'] = data['Country'].str.strip()"
      ]
    },
    {
      "cell_type": "code",
      "execution_count": null,
      "metadata": {
        "id": "0jne2VzibtYM"
      },
      "outputs": [],
      "source": [
        "from sklearn.model_selection import train_test_split\n",
        "from sklearn.preprocessing import LabelEncoder\n",
        "from tensorflow.keras.preprocessing.text import Tokenizer\n",
        "from tensorflow.keras.preprocessing.sequence import pad_sequences\n",
        "from tensorflow.keras.models import Sequential\n",
        "from tensorflow.keras.layers import Embedding, LSTM, Dense"
      ]
    },
    {
      "cell_type": "code",
      "execution_count": null,
      "metadata": {
        "id": "NQ9a0ANpbzao"
      },
      "outputs": [],
      "source": [
        "X = data['Text'].values\n",
        "y = data['Sentiment'].values"
      ]
    },
    {
      "cell_type": "code",
      "execution_count": null,
      "metadata": {
        "id": "IRk5dOj1b-Fe"
      },
      "outputs": [],
      "source": [
        "label_encoder = LabelEncoder()\n",
        "y = label_encoder.fit_transform(y)"
      ]
    },
    {
      "cell_type": "code",
      "execution_count": null,
      "metadata": {
        "id": "II8SlVNAcBUv"
      },
      "outputs": [],
      "source": [
        "tokenizer = Tokenizer()\n",
        "tokenizer.fit_on_texts(X)\n",
        "X_tokenized = tokenizer.texts_to_sequences(X)"
      ]
    },
    {
      "cell_type": "code",
      "execution_count": null,
      "metadata": {
        "id": "5HwzkLwZcFXu"
      },
      "outputs": [],
      "source": [
        "max_sequence_length = 10000\n",
        "X_padded = pad_sequences(X_tokenized, maxlen=max_sequence_length)"
      ]
    },
    {
      "cell_type": "code",
      "execution_count": null,
      "metadata": {
        "id": "WSltJZGVcNPq"
      },
      "outputs": [],
      "source": [
        "X_train, X_test, y_train, y_test = train_test_split(X_padded, y, test_size=0.3, random_state=42)"
      ]
    },
    {
      "cell_type": "code",
      "execution_count": null,
      "metadata": {
        "id": "nHcsuj7pcnWW"
      },
      "outputs": [],
      "source": [
        "vocab_size = len(tokenizer.word_index) + 1\n",
        "embedding_dim = 100\n",
        "num_classes = len(label_encoder.classes_)"
      ]
    },
    {
      "cell_type": "code",
      "execution_count": null,
      "metadata": {
        "id": "FhU8vBNBcsl-"
      },
      "outputs": [],
      "source": [
        "model = Sequential()\n",
        "model.add(Embedding(vocab_size, embedding_dim, input_length=max_sequence_length))\n",
        "model.add(LSTM(128))\n",
        "model.add(Dense(num_classes, activation='softmax'))"
      ]
    },
    {
      "cell_type": "code",
      "execution_count": null,
      "metadata": {
        "id": "SNj_189Ycvp9"
      },
      "outputs": [],
      "source": [
        "model.compile(loss='sparse_categorical_crossentropy', optimizer='adam', metrics=['accuracy'])"
      ]
    },
    {
      "cell_type": "code",
      "execution_count": null,
      "metadata": {
        "colab": {
          "background_save": true,
          "base_uri": "https://localhost:8080/"
        },
        "id": "tjIYVknucxqA",
        "outputId": "85c9b40b-7606-4748-b1cc-314458fdf138"
      },
      "outputs": [
        {
          "name": "stdout",
          "output_type": "stream",
          "text": [
            "Epoch 1/10\n",
            "12/12 [==============================] - 390s 32s/step - loss: 5.6121 - accuracy: 0.0419 - val_loss: 5.5379 - val_accuracy: 0.0584\n",
            "Epoch 2/10\n",
            "12/12 [==============================] - 380s 32s/step - loss: 5.2547 - accuracy: 0.0587 - val_loss: 5.5158 - val_accuracy: 0.0584\n",
            "Epoch 3/10\n",
            "12/12 [==============================] - 381s 32s/step - loss: 4.9544 - accuracy: 0.0642 - val_loss: 5.6820 - val_accuracy: 0.0390\n",
            "Epoch 4/10\n",
            "12/12 [==============================] - 380s 32s/step - loss: 4.8566 - accuracy: 0.0363 - val_loss: 5.8295 - val_accuracy: 0.0974\n",
            "Epoch 5/10\n",
            "12/12 [==============================] - 379s 32s/step - loss: 4.8194 - accuracy: 0.0838 - val_loss: 5.9055 - val_accuracy: 0.0974\n",
            "Epoch 6/10\n",
            "12/12 [==============================] - 419s 35s/step - loss: 4.7924 - accuracy: 0.0782 - val_loss: 5.9586 - val_accuracy: 0.0909\n",
            "Epoch 7/10\n",
            "12/12 [==============================] - 388s 32s/step - loss: 4.7564 - accuracy: 0.0838 - val_loss: 6.0077 - val_accuracy: 0.0974\n",
            "Epoch 8/10\n",
            "12/12 [==============================] - 365s 30s/step - loss: 4.6976 - accuracy: 0.1145 - val_loss: 5.9165 - val_accuracy: 0.0519\n",
            "Epoch 9/10\n",
            "12/12 [==============================] - 416s 35s/step - loss: 4.6461 - accuracy: 0.1201 - val_loss: 5.8822 - val_accuracy: 0.1039\n",
            "Epoch 10/10\n",
            "12/12 [==============================] - 387s 32s/step - loss: 4.5473 - accuracy: 0.1508 - val_loss: 5.8941 - val_accuracy: 0.0974\n"
          ]
        },
        {
          "data": {
            "text/plain": [
              "<keras.src.callbacks.History at 0x7cdb6c496590>"
            ]
          },
          "execution_count": 14,
          "metadata": {},
          "output_type": "execute_result"
        }
      ],
      "source": [
        "model.fit(X_train, y_train, epochs=50, batch_size=32, validation_split=0.3)"
      ]
    },
    {
      "cell_type": "code",
      "execution_count": 16,
      "metadata": {
        "id": "uhhNDpJpc2Bv",
        "colab": {
          "base_uri": "https://localhost:8080/"
        },
        "outputId": "51e8992d-b112-4c96-f4c3-a4531cef4a5f"
      },
      "outputs": [
        {
          "output_type": "stream",
          "name": "stdout",
          "text": [
            "7/7 [==============================] - 51s 7s/step - loss: 6.1701 - accuracy: 0.1227\n",
            "Test Accuracy: 0.12272727489471436\n"
          ]
        }
      ],
      "source": [
        "loss, accuracy = model.evaluate(X_test, y_test)\n",
        "print(f'Test Accuracy: {accuracy}')"
      ]
    },
    {
      "cell_type": "code",
      "source": [],
      "metadata": {
        "id": "jzEOiYM0gWk4"
      },
      "execution_count": null,
      "outputs": []
    }
  ],
  "metadata": {
    "colab": {
      "provenance": []
    },
    "kernelspec": {
      "display_name": "Python 3",
      "name": "python3"
    },
    "language_info": {
      "name": "python"
    }
  },
  "nbformat": 4,
  "nbformat_minor": 0
}