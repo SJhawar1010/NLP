{
  "nbformat": 4,
  "nbformat_minor": 0,
  "metadata": {
    "colab": {
      "provenance": []
    },
    "kernelspec": {
      "name": "python3",
      "display_name": "Python 3"
    },
    "language_info": {
      "name": "python"
    }
  },
  "cells": [
    {
      "cell_type": "code",
      "execution_count": 1,
      "metadata": {
        "id": "8HT07dvrmQRQ"
      },
      "outputs": [],
      "source": [
        "from sklearn.feature_extraction.text import CountVectorizer\n",
        "from sklearn.metrics.pairwise import cosine_similarity"
      ]
    },
    {
      "cell_type": "code",
      "source": [
        "p1 = \"The quick brown fox jumps over the lazy dog. The lazy dog then barks loudly. The brown fox runs away quickly. The lazy dog chases after the brown fox but cannot catch it. Eventually, the lazy dog gives up and returns home.\"\n",
        "p2 = \"A lazy dog is lying under a tree. The brown fox spots the lazy dog and decides to play a game. The brown fox sneaks up to the lazy dog and surprises it. The lazy dog jumps up and starts chasing the brown fox. They run around the tree multiple times, having fun together.\""
      ],
      "metadata": {
        "id": "iI2xwBDimwHn"
      },
      "execution_count": 2,
      "outputs": []
    },
    {
      "cell_type": "code",
      "source": [
        "vectorizer = CountVectorizer()"
      ],
      "metadata": {
        "id": "-hkZHeRHnEj2"
      },
      "execution_count": 3,
      "outputs": []
    },
    {
      "cell_type": "code",
      "source": [
        "X = vectorizer.fit_transform([p1, p2])"
      ],
      "metadata": {
        "id": "gh7eg6FhnGgh"
      },
      "execution_count": 4,
      "outputs": []
    },
    {
      "cell_type": "code",
      "source": [
        "cosine_sim = cosine_similarity(X)"
      ],
      "metadata": {
        "id": "vuqKtPjbnJZQ"
      },
      "execution_count": 5,
      "outputs": []
    },
    {
      "cell_type": "code",
      "source": [
        "print(\"Cosine Similarity:\", cosine_sim[0][1])"
      ],
      "metadata": {
        "colab": {
          "base_uri": "https://localhost:8080/"
        },
        "id": "ncjuwfA0nLIm",
        "outputId": "f11c4ffb-f3e8-4b0a-bec8-fda7e46455a4"
      },
      "execution_count": 6,
      "outputs": [
        {
          "output_type": "stream",
          "name": "stdout",
          "text": [
            "Cosine Similarity: 0.8149025670921818\n"
          ]
        }
      ]
    },
    {
      "cell_type": "code",
      "source": [
        "def jaccard_similarity(str1, str2):\n",
        "    a = set(str1.split())\n",
        "    b = set(str2.split())\n",
        "    return len(a.intersection(b)) / float(len(a.union(b)))"
      ],
      "metadata": {
        "id": "S_sBZf9hnNnC"
      },
      "execution_count": 7,
      "outputs": []
    },
    {
      "cell_type": "code",
      "source": [
        "jaccard_sim = jaccard_similarity(p1, p2)"
      ],
      "metadata": {
        "id": "UY5GPhIonU2t"
      },
      "execution_count": 8,
      "outputs": []
    },
    {
      "cell_type": "code",
      "source": [
        "print(\"Jaccard Similarity:\", jaccard_sim)"
      ],
      "metadata": {
        "colab": {
          "base_uri": "https://localhost:8080/"
        },
        "id": "HN5eDsqknYPG",
        "outputId": "51168a36-6b3b-419e-c267-6ec88d9afb40"
      },
      "execution_count": 9,
      "outputs": [
        {
          "output_type": "stream",
          "name": "stdout",
          "text": [
            "Jaccard Similarity: 0.18867924528301888\n"
          ]
        }
      ]
    }
  ]
}